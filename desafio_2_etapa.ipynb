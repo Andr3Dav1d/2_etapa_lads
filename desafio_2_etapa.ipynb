{
  "cells": [
    {
      "cell_type": "markdown",
      "id": "2ba219a2-5490-4fdc-82b3-2fe53bec55af",
      "metadata": {
        "id": "2ba219a2-5490-4fdc-82b3-2fe53bec55af"
      },
      "source": [
        "# Introdução à Análise de Dados com Pandas\n",
        "## Processo Seletivo LADS - Etapa 2\n",
        "\n",
        "### Instruções:\n",
        "- Este notebook é um guia introdutório à análise de dados com Pandas\n",
        "- Cada seção contém exemplos explicativos e exercícios práticos\n",
        "- Complete todos os exercícios nas células marcadas com \"SEU CÓDIGO AQUI\"\n",
        "\n",
        "### O que será avaliado:\n",
        "- Compreensão dos conceitos apresentados\n",
        "- Capacidade de aplicar os conceitos em problemas práticos\n",
        "- Organização e clareza do código\n",
        "- Análise e interpretação dos resultados\n",
        "\n",
        "### Instruções importantes antes de começar:\n",
        "\n",
        "- **Execute todas as células de código em ordem sequencial** (de cima para baixo)\n",
        "- Não pule células de código, mesmo que pareçam não ter outputs visíveis\n",
        "- Isso garantirá que todas as variáveis necessárias estejam carregadas para os exercícios\n",
        "- Se encontrar erros do tipo \"variável não definida\", volte e verifique se todas as células anteriores foram executadas\n",
        "\n",
        "- Para executar uma célula de código, você pode:\n",
        "  - Pressionar **Ctrl + Enter** enquanto estiver na célula\n",
        "  - Ou clicar no botão ▶️ (play) na barra de ferramentas do seu editor de código\n",
        "\n",
        "---"
      ]
    },
    {
      "cell_type": "markdown",
      "id": "bea911ef",
      "metadata": {
        "id": "bea911ef"
      },
      "source": [
        "### Antes de começar, execute a célula abaixo e digite seu nome completo:"
      ]
    },
    {
      "cell_type": "code",
      "execution_count": 1,
      "id": "c2b400c4",
      "metadata": {
        "id": "c2b400c4",
        "outputId": "5dd8c72f-6e59-4042-8ca1-949b929cbda4",
        "colab": {
          "base_uri": "https://localhost:8080/"
        }
      },
      "outputs": [
        {
          "output_type": "stream",
          "name": "stdout",
          "text": [
            "Seu nome: André David\n",
            "Olá, André David! Estamos animados para iniciar essa jornada de análise de dados com você!\n"
          ]
        }
      ],
      "source": [
        "nome = input('Seu nome: ')\n",
        "print(f\"Olá, {nome.title()}! Estamos animados para iniciar essa jornada de análise de dados com você!\")"
      ]
    },
    {
      "cell_type": "markdown",
      "id": "42e9d289",
      "metadata": {
        "id": "42e9d289"
      },
      "source": [
        "---"
      ]
    },
    {
      "cell_type": "markdown",
      "id": "41f192ff",
      "metadata": {
        "id": "41f192ff"
      },
      "source": [
        "## 1. Primeiros Passos com Pandas\n",
        "\n",
        "### 1.1 O que é o Pandas?\n",
        "\n",
        "Pandas é uma biblioteca Python para análise e manipulação de dados. Ele oferece estruturas de dados flexíveis e ferramentas para trabalhar com dados estruturados de forma eficiente.\n",
        "\n",
        "As duas principais estruturas de dados do Pandas são:\n",
        "- **Series**: Array unidimensional rotulado\n",
        "- **DataFrame**: Estrutura bidimensional tabular com colunas rotuladas\n",
        "\n",
        "Vamos começar importando as bibliotecas necessárias:"
      ]
    },
    {
      "cell_type": "code",
      "execution_count": 2,
      "id": "eaeb79ee-ed63-4678-bedb-7ad7df36aabb",
      "metadata": {
        "id": "eaeb79ee-ed63-4678-bedb-7ad7df36aabb"
      },
      "outputs": [],
      "source": [
        "# Importando as bibliotecas\n",
        "import pandas as pd\n",
        "import numpy as np\n",
        "import matplotlib.pyplot as plt\n",
        "\n",
        "# Configurando o matplotlib para mostrar gráficos no notebook\n",
        "%matplotlib inline\n",
        "\n",
        "# Para ignorar os avisos desnecessários\n",
        "import warnings\n",
        "warnings.filterwarnings('ignore')"
      ]
    },
    {
      "cell_type": "markdown",
      "id": "fd12538f-d0ac-4b37-83bf-7f436523c042",
      "metadata": {
        "id": "fd12538f-d0ac-4b37-83bf-7f436523c042"
      },
      "source": [
        "### 1.2 Criando um DataFrame\n",
        "\n",
        "Vamos criar um conjunto de dados de exemplo sobre vendas de uma loja virtual:"
      ]
    },
    {
      "cell_type": "code",
      "execution_count": 3,
      "id": "e76d0099-4d73-4d25-8923-3c0f3ab73bae",
      "metadata": {
        "id": "e76d0099-4d73-4d25-8923-3c0f3ab73bae",
        "outputId": "ca2dc727-9941-4bfb-fc01-35d6f5b6ff64",
        "colab": {
          "base_uri": "https://localhost:8080/",
          "height": 206
        }
      },
      "outputs": [
        {
          "output_type": "execute_result",
          "data": {
            "text/plain": [
              "                  data categoria  produto        regiao estado  canal_venda  \\\n",
              "0  2023-04-13 00:00:00      Casa  Armário  Centro-Oeste     MS       Online   \n",
              "1  2023-03-29 00:00:00    Beleza  Perfume  Centro-Oeste     GO       Online   \n",
              "2  2023-07-11 00:00:00      Casa  Armário         Norte     RR  Loja Física   \n",
              "3  2023-02-28 00:00:00    Roupas   Sapato       Sudeste     ES   Aplicativo   \n",
              "4  2023-02-24 00:00:00      Casa     Sofá  Centro-Oeste     DF   Aplicativo   \n",
              "\n",
              "   valor_venda  quantidade  avaliacao  \n",
              "0      2988.28           3          3  \n",
              "1      4849.85           6          2  \n",
              "2      2628.53           9          1  \n",
              "3      2285.79           3          4  \n",
              "4      3404.73           9          2  "
            ],
            "text/html": [
              "\n",
              "  <div id=\"df-a79cce2b-9dc3-4896-ae8f-016b1fe49194\" class=\"colab-df-container\">\n",
              "    <div>\n",
              "<style scoped>\n",
              "    .dataframe tbody tr th:only-of-type {\n",
              "        vertical-align: middle;\n",
              "    }\n",
              "\n",
              "    .dataframe tbody tr th {\n",
              "        vertical-align: top;\n",
              "    }\n",
              "\n",
              "    .dataframe thead th {\n",
              "        text-align: right;\n",
              "    }\n",
              "</style>\n",
              "<table border=\"1\" class=\"dataframe\">\n",
              "  <thead>\n",
              "    <tr style=\"text-align: right;\">\n",
              "      <th></th>\n",
              "      <th>data</th>\n",
              "      <th>categoria</th>\n",
              "      <th>produto</th>\n",
              "      <th>regiao</th>\n",
              "      <th>estado</th>\n",
              "      <th>canal_venda</th>\n",
              "      <th>valor_venda</th>\n",
              "      <th>quantidade</th>\n",
              "      <th>avaliacao</th>\n",
              "    </tr>\n",
              "  </thead>\n",
              "  <tbody>\n",
              "    <tr>\n",
              "      <th>0</th>\n",
              "      <td>2023-04-13 00:00:00</td>\n",
              "      <td>Casa</td>\n",
              "      <td>Armário</td>\n",
              "      <td>Centro-Oeste</td>\n",
              "      <td>MS</td>\n",
              "      <td>Online</td>\n",
              "      <td>2988.28</td>\n",
              "      <td>3</td>\n",
              "      <td>3</td>\n",
              "    </tr>\n",
              "    <tr>\n",
              "      <th>1</th>\n",
              "      <td>2023-03-29 00:00:00</td>\n",
              "      <td>Beleza</td>\n",
              "      <td>Perfume</td>\n",
              "      <td>Centro-Oeste</td>\n",
              "      <td>GO</td>\n",
              "      <td>Online</td>\n",
              "      <td>4849.85</td>\n",
              "      <td>6</td>\n",
              "      <td>2</td>\n",
              "    </tr>\n",
              "    <tr>\n",
              "      <th>2</th>\n",
              "      <td>2023-07-11 00:00:00</td>\n",
              "      <td>Casa</td>\n",
              "      <td>Armário</td>\n",
              "      <td>Norte</td>\n",
              "      <td>RR</td>\n",
              "      <td>Loja Física</td>\n",
              "      <td>2628.53</td>\n",
              "      <td>9</td>\n",
              "      <td>1</td>\n",
              "    </tr>\n",
              "    <tr>\n",
              "      <th>3</th>\n",
              "      <td>2023-02-28 00:00:00</td>\n",
              "      <td>Roupas</td>\n",
              "      <td>Sapato</td>\n",
              "      <td>Sudeste</td>\n",
              "      <td>ES</td>\n",
              "      <td>Aplicativo</td>\n",
              "      <td>2285.79</td>\n",
              "      <td>3</td>\n",
              "      <td>4</td>\n",
              "    </tr>\n",
              "    <tr>\n",
              "      <th>4</th>\n",
              "      <td>2023-02-24 00:00:00</td>\n",
              "      <td>Casa</td>\n",
              "      <td>Sofá</td>\n",
              "      <td>Centro-Oeste</td>\n",
              "      <td>DF</td>\n",
              "      <td>Aplicativo</td>\n",
              "      <td>3404.73</td>\n",
              "      <td>9</td>\n",
              "      <td>2</td>\n",
              "    </tr>\n",
              "  </tbody>\n",
              "</table>\n",
              "</div>\n",
              "    <div class=\"colab-df-buttons\">\n",
              "\n",
              "  <div class=\"colab-df-container\">\n",
              "    <button class=\"colab-df-convert\" onclick=\"convertToInteractive('df-a79cce2b-9dc3-4896-ae8f-016b1fe49194')\"\n",
              "            title=\"Convert this dataframe to an interactive table.\"\n",
              "            style=\"display:none;\">\n",
              "\n",
              "  <svg xmlns=\"http://www.w3.org/2000/svg\" height=\"24px\" viewBox=\"0 -960 960 960\">\n",
              "    <path d=\"M120-120v-720h720v720H120Zm60-500h600v-160H180v160Zm220 220h160v-160H400v160Zm0 220h160v-160H400v160ZM180-400h160v-160H180v160Zm440 0h160v-160H620v160ZM180-180h160v-160H180v160Zm440 0h160v-160H620v160Z\"/>\n",
              "  </svg>\n",
              "    </button>\n",
              "\n",
              "  <style>\n",
              "    .colab-df-container {\n",
              "      display:flex;\n",
              "      gap: 12px;\n",
              "    }\n",
              "\n",
              "    .colab-df-convert {\n",
              "      background-color: #E8F0FE;\n",
              "      border: none;\n",
              "      border-radius: 50%;\n",
              "      cursor: pointer;\n",
              "      display: none;\n",
              "      fill: #1967D2;\n",
              "      height: 32px;\n",
              "      padding: 0 0 0 0;\n",
              "      width: 32px;\n",
              "    }\n",
              "\n",
              "    .colab-df-convert:hover {\n",
              "      background-color: #E2EBFA;\n",
              "      box-shadow: 0px 1px 2px rgba(60, 64, 67, 0.3), 0px 1px 3px 1px rgba(60, 64, 67, 0.15);\n",
              "      fill: #174EA6;\n",
              "    }\n",
              "\n",
              "    .colab-df-buttons div {\n",
              "      margin-bottom: 4px;\n",
              "    }\n",
              "\n",
              "    [theme=dark] .colab-df-convert {\n",
              "      background-color: #3B4455;\n",
              "      fill: #D2E3FC;\n",
              "    }\n",
              "\n",
              "    [theme=dark] .colab-df-convert:hover {\n",
              "      background-color: #434B5C;\n",
              "      box-shadow: 0px 1px 3px 1px rgba(0, 0, 0, 0.15);\n",
              "      filter: drop-shadow(0px 1px 2px rgba(0, 0, 0, 0.3));\n",
              "      fill: #FFFFFF;\n",
              "    }\n",
              "  </style>\n",
              "\n",
              "    <script>\n",
              "      const buttonEl =\n",
              "        document.querySelector('#df-a79cce2b-9dc3-4896-ae8f-016b1fe49194 button.colab-df-convert');\n",
              "      buttonEl.style.display =\n",
              "        google.colab.kernel.accessAllowed ? 'block' : 'none';\n",
              "\n",
              "      async function convertToInteractive(key) {\n",
              "        const element = document.querySelector('#df-a79cce2b-9dc3-4896-ae8f-016b1fe49194');\n",
              "        const dataTable =\n",
              "          await google.colab.kernel.invokeFunction('convertToInteractive',\n",
              "                                                    [key], {});\n",
              "        if (!dataTable) return;\n",
              "\n",
              "        const docLinkHtml = 'Like what you see? Visit the ' +\n",
              "          '<a target=\"_blank\" href=https://colab.research.google.com/notebooks/data_table.ipynb>data table notebook</a>'\n",
              "          + ' to learn more about interactive tables.';\n",
              "        element.innerHTML = '';\n",
              "        dataTable['output_type'] = 'display_data';\n",
              "        await google.colab.output.renderOutput(dataTable, element);\n",
              "        const docLink = document.createElement('div');\n",
              "        docLink.innerHTML = docLinkHtml;\n",
              "        element.appendChild(docLink);\n",
              "      }\n",
              "    </script>\n",
              "  </div>\n",
              "\n",
              "\n",
              "    <div id=\"df-4a0b45c5-ec31-46e9-b8bf-e05811187674\">\n",
              "      <button class=\"colab-df-quickchart\" onclick=\"quickchart('df-4a0b45c5-ec31-46e9-b8bf-e05811187674')\"\n",
              "                title=\"Suggest charts\"\n",
              "                style=\"display:none;\">\n",
              "\n",
              "<svg xmlns=\"http://www.w3.org/2000/svg\" height=\"24px\"viewBox=\"0 0 24 24\"\n",
              "     width=\"24px\">\n",
              "    <g>\n",
              "        <path d=\"M19 3H5c-1.1 0-2 .9-2 2v14c0 1.1.9 2 2 2h14c1.1 0 2-.9 2-2V5c0-1.1-.9-2-2-2zM9 17H7v-7h2v7zm4 0h-2V7h2v10zm4 0h-2v-4h2v4z\"/>\n",
              "    </g>\n",
              "</svg>\n",
              "      </button>\n",
              "\n",
              "<style>\n",
              "  .colab-df-quickchart {\n",
              "      --bg-color: #E8F0FE;\n",
              "      --fill-color: #1967D2;\n",
              "      --hover-bg-color: #E2EBFA;\n",
              "      --hover-fill-color: #174EA6;\n",
              "      --disabled-fill-color: #AAA;\n",
              "      --disabled-bg-color: #DDD;\n",
              "  }\n",
              "\n",
              "  [theme=dark] .colab-df-quickchart {\n",
              "      --bg-color: #3B4455;\n",
              "      --fill-color: #D2E3FC;\n",
              "      --hover-bg-color: #434B5C;\n",
              "      --hover-fill-color: #FFFFFF;\n",
              "      --disabled-bg-color: #3B4455;\n",
              "      --disabled-fill-color: #666;\n",
              "  }\n",
              "\n",
              "  .colab-df-quickchart {\n",
              "    background-color: var(--bg-color);\n",
              "    border: none;\n",
              "    border-radius: 50%;\n",
              "    cursor: pointer;\n",
              "    display: none;\n",
              "    fill: var(--fill-color);\n",
              "    height: 32px;\n",
              "    padding: 0;\n",
              "    width: 32px;\n",
              "  }\n",
              "\n",
              "  .colab-df-quickchart:hover {\n",
              "    background-color: var(--hover-bg-color);\n",
              "    box-shadow: 0 1px 2px rgba(60, 64, 67, 0.3), 0 1px 3px 1px rgba(60, 64, 67, 0.15);\n",
              "    fill: var(--button-hover-fill-color);\n",
              "  }\n",
              "\n",
              "  .colab-df-quickchart-complete:disabled,\n",
              "  .colab-df-quickchart-complete:disabled:hover {\n",
              "    background-color: var(--disabled-bg-color);\n",
              "    fill: var(--disabled-fill-color);\n",
              "    box-shadow: none;\n",
              "  }\n",
              "\n",
              "  .colab-df-spinner {\n",
              "    border: 2px solid var(--fill-color);\n",
              "    border-color: transparent;\n",
              "    border-bottom-color: var(--fill-color);\n",
              "    animation:\n",
              "      spin 1s steps(1) infinite;\n",
              "  }\n",
              "\n",
              "  @keyframes spin {\n",
              "    0% {\n",
              "      border-color: transparent;\n",
              "      border-bottom-color: var(--fill-color);\n",
              "      border-left-color: var(--fill-color);\n",
              "    }\n",
              "    20% {\n",
              "      border-color: transparent;\n",
              "      border-left-color: var(--fill-color);\n",
              "      border-top-color: var(--fill-color);\n",
              "    }\n",
              "    30% {\n",
              "      border-color: transparent;\n",
              "      border-left-color: var(--fill-color);\n",
              "      border-top-color: var(--fill-color);\n",
              "      border-right-color: var(--fill-color);\n",
              "    }\n",
              "    40% {\n",
              "      border-color: transparent;\n",
              "      border-right-color: var(--fill-color);\n",
              "      border-top-color: var(--fill-color);\n",
              "    }\n",
              "    60% {\n",
              "      border-color: transparent;\n",
              "      border-right-color: var(--fill-color);\n",
              "    }\n",
              "    80% {\n",
              "      border-color: transparent;\n",
              "      border-right-color: var(--fill-color);\n",
              "      border-bottom-color: var(--fill-color);\n",
              "    }\n",
              "    90% {\n",
              "      border-color: transparent;\n",
              "      border-bottom-color: var(--fill-color);\n",
              "    }\n",
              "  }\n",
              "</style>\n",
              "\n",
              "      <script>\n",
              "        async function quickchart(key) {\n",
              "          const quickchartButtonEl =\n",
              "            document.querySelector('#' + key + ' button');\n",
              "          quickchartButtonEl.disabled = true;  // To prevent multiple clicks.\n",
              "          quickchartButtonEl.classList.add('colab-df-spinner');\n",
              "          try {\n",
              "            const charts = await google.colab.kernel.invokeFunction(\n",
              "                'suggestCharts', [key], {});\n",
              "          } catch (error) {\n",
              "            console.error('Error during call to suggestCharts:', error);\n",
              "          }\n",
              "          quickchartButtonEl.classList.remove('colab-df-spinner');\n",
              "          quickchartButtonEl.classList.add('colab-df-quickchart-complete');\n",
              "        }\n",
              "        (() => {\n",
              "          let quickchartButtonEl =\n",
              "            document.querySelector('#df-4a0b45c5-ec31-46e9-b8bf-e05811187674 button');\n",
              "          quickchartButtonEl.style.display =\n",
              "            google.colab.kernel.accessAllowed ? 'block' : 'none';\n",
              "        })();\n",
              "      </script>\n",
              "    </div>\n",
              "\n",
              "    </div>\n",
              "  </div>\n"
            ],
            "application/vnd.google.colaboratory.intrinsic+json": {
              "type": "dataframe",
              "variable_name": "df_vendas",
              "summary": "{\n  \"name\": \"df_vendas\",\n  \"rows\": 1000,\n  \"fields\": [\n    {\n      \"column\": \"data\",\n      \"properties\": {\n        \"dtype\": \"date\",\n        \"min\": \"2023-01-01 00:00:00\",\n        \"max\": \"2023-12-31 00:00:00\",\n        \"num_unique_values\": 338,\n        \"samples\": [\n          \"2023-03-16 00:00:00\",\n          \"2023-08-07 00:00:00\",\n          \"2023-10-19 00:00:00\"\n        ],\n        \"semantic_type\": \"\",\n        \"description\": \"\"\n      }\n    },\n    {\n      \"column\": \"categoria\",\n      \"properties\": {\n        \"dtype\": \"category\",\n        \"num_unique_values\": 5,\n        \"samples\": [\n          \"Beleza\",\n          \"Eletr\\u00f4nicos\",\n          \"Roupas\"\n        ],\n        \"semantic_type\": \"\",\n        \"description\": \"\"\n      }\n    },\n    {\n      \"column\": \"produto\",\n      \"properties\": {\n        \"dtype\": \"category\",\n        \"num_unique_values\": 25,\n        \"samples\": [\n          \"Shampoo\",\n          \"Camiseta\",\n          \"Arm\\u00e1rio\"\n        ],\n        \"semantic_type\": \"\",\n        \"description\": \"\"\n      }\n    },\n    {\n      \"column\": \"regiao\",\n      \"properties\": {\n        \"dtype\": \"category\",\n        \"num_unique_values\": 5,\n        \"samples\": [\n          \"Norte\",\n          \"Sul\",\n          \"Sudeste\"\n        ],\n        \"semantic_type\": \"\",\n        \"description\": \"\"\n      }\n    },\n    {\n      \"column\": \"estado\",\n      \"properties\": {\n        \"dtype\": \"category\",\n        \"num_unique_values\": 21,\n        \"samples\": [\n          \"MS\",\n          \"SP\",\n          \"AC\"\n        ],\n        \"semantic_type\": \"\",\n        \"description\": \"\"\n      }\n    },\n    {\n      \"column\": \"canal_venda\",\n      \"properties\": {\n        \"dtype\": \"category\",\n        \"num_unique_values\": 4,\n        \"samples\": [\n          \"Loja F\\u00edsica\",\n          \"Telefone\",\n          \"Online\"\n        ],\n        \"semantic_type\": \"\",\n        \"description\": \"\"\n      }\n    },\n    {\n      \"column\": \"valor_venda\",\n      \"properties\": {\n        \"dtype\": \"number\",\n        \"std\": 1459.098609650825,\n        \"min\": 11.13,\n        \"max\": 4997.31,\n        \"num_unique_values\": 1000,\n        \"samples\": [\n          3293.83,\n          191.94,\n          4831.71\n        ],\n        \"semantic_type\": \"\",\n        \"description\": \"\"\n      }\n    },\n    {\n      \"column\": \"quantidade\",\n      \"properties\": {\n        \"dtype\": \"number\",\n        \"std\": 2,\n        \"min\": 1,\n        \"max\": 9,\n        \"num_unique_values\": 9,\n        \"samples\": [\n          2,\n          6,\n          7\n        ],\n        \"semantic_type\": \"\",\n        \"description\": \"\"\n      }\n    },\n    {\n      \"column\": \"avaliacao\",\n      \"properties\": {\n        \"dtype\": \"number\",\n        \"std\": 1,\n        \"min\": 1,\n        \"max\": 5,\n        \"num_unique_values\": 5,\n        \"samples\": [\n          2,\n          5,\n          1\n        ],\n        \"semantic_type\": \"\",\n        \"description\": \"\"\n      }\n    }\n  ]\n}"
            }
          },
          "metadata": {},
          "execution_count": 3
        }
      ],
      "source": [
        "# Criando um dataset de exemplo\n",
        "np.random.seed(42)  # Para garantir reprodutibilidade\n",
        "\n",
        "# Criando dados de exemplo\n",
        "datas = pd.date_range(start='2023-01-01', end='2023-12-31', freq='D')\n",
        "categorias = ['Eletrônicos', 'Roupas', 'Alimentos', 'Casa', 'Beleza']\n",
        "produtos = {\n",
        "    'Eletrônicos': ['Smartphone', 'Laptop', 'Tablet', 'Fones de ouvido', 'Smart TV'],\n",
        "    'Roupas': ['Camiseta', 'Calça', 'Vestido', 'Sapato', 'Jaqueta'],\n",
        "    'Alimentos': ['Arroz', 'Feijão', 'Óleo', 'Açúcar', 'Café'],\n",
        "    'Casa': ['Sofá', 'Mesa', 'Cadeira', 'Cama', 'Armário'],\n",
        "    'Beleza': ['Shampoo', 'Condicionador', 'Sabonete', 'Perfume', 'Hidratante']\n",
        "}\n",
        "regioes = ['Norte', 'Nordeste', 'Centro-Oeste', 'Sudeste', 'Sul']\n",
        "estados = {\n",
        "    'Norte': ['AM', 'PA', 'RO', 'RR', 'AC'],\n",
        "    'Nordeste': ['BA', 'PE', 'CE', 'MA', 'PB'],\n",
        "    'Centro-Oeste': ['DF', 'GO', 'MT', 'MS'],\n",
        "    'Sudeste': ['SP', 'RJ', 'MG', 'ES'],\n",
        "    'Sul': ['PR', 'SC', 'RS']\n",
        "}\n",
        "canais = ['Online', 'Loja Física', 'Aplicativo', 'Telefone']\n",
        "\n",
        "# Gerando 1000 registros aleatórios\n",
        "n_registros = 1000\n",
        "data_vendas = []\n",
        "\n",
        "for _ in range(n_registros):\n",
        "    data = np.random.choice(datas)\n",
        "    categoria = np.random.choice(categorias)\n",
        "    produto = np.random.choice(produtos[categoria])\n",
        "    regiao = np.random.choice(regioes)\n",
        "    estado = np.random.choice(estados[regiao])\n",
        "    canal = np.random.choice(canais)\n",
        "    valor = round(np.random.uniform(10, 5000), 2)  # Valor entre R$10 e R$5000\n",
        "    quantidade = np.random.randint(1, 10)  # Entre 1 e 9 itens\n",
        "    avaliacao = np.random.randint(1, 6)  # Avaliação de 1 a 5 estrelas\n",
        "\n",
        "    data_vendas.append({\n",
        "        'data': data,\n",
        "        'categoria': categoria,\n",
        "        'produto': produto,\n",
        "        'regiao': regiao,\n",
        "        'estado': estado,\n",
        "        'canal_venda': canal,\n",
        "        'valor_venda': valor,\n",
        "        'quantidade': quantidade,\n",
        "        'avaliacao': avaliacao\n",
        "    })\n",
        "\n",
        "# Criando o DataFrame\n",
        "df_vendas = pd.DataFrame(data_vendas)\n",
        "df_vendas['data'] = df_vendas['data'].astype('object')\n",
        "\n",
        "# Salvando como CSV para uso futuro\n",
        "df_vendas.to_csv('dados_vendas.csv', index=False)\n",
        "\n",
        "# Visualizando as primeiras linhas\n",
        "df_vendas.head()"
      ]
    },
    {
      "cell_type": "markdown",
      "id": "7c960ac0-7af4-4fe3-84dc-871c77fbb3e8",
      "metadata": {
        "id": "7c960ac0-7af4-4fe3-84dc-871c77fbb3e8"
      },
      "source": [
        "### 1.3 Explorando os Dados Básicos\n",
        "\n",
        "No Pandas, existem vários métodos para explorar e entender os dados:"
      ]
    },
    {
      "cell_type": "code",
      "execution_count": 4,
      "id": "740b23bd-74da-4a15-89f7-37957d4b4bcf",
      "metadata": {
        "id": "740b23bd-74da-4a15-89f7-37957d4b4bcf",
        "outputId": "dd644d92-0ee5-406b-ec97-fe732564a70b",
        "colab": {
          "base_uri": "https://localhost:8080/",
          "height": 224
        }
      },
      "outputs": [
        {
          "output_type": "stream",
          "name": "stdout",
          "text": [
            "Primeiras 5 linhas do DataFrame:\n"
          ]
        },
        {
          "output_type": "execute_result",
          "data": {
            "text/plain": [
              "                  data categoria  produto        regiao estado  canal_venda  \\\n",
              "0  2023-04-13 00:00:00      Casa  Armário  Centro-Oeste     MS       Online   \n",
              "1  2023-03-29 00:00:00    Beleza  Perfume  Centro-Oeste     GO       Online   \n",
              "2  2023-07-11 00:00:00      Casa  Armário         Norte     RR  Loja Física   \n",
              "3  2023-02-28 00:00:00    Roupas   Sapato       Sudeste     ES   Aplicativo   \n",
              "4  2023-02-24 00:00:00      Casa     Sofá  Centro-Oeste     DF   Aplicativo   \n",
              "\n",
              "   valor_venda  quantidade  avaliacao  \n",
              "0      2988.28           3          3  \n",
              "1      4849.85           6          2  \n",
              "2      2628.53           9          1  \n",
              "3      2285.79           3          4  \n",
              "4      3404.73           9          2  "
            ],
            "text/html": [
              "\n",
              "  <div id=\"df-9459017b-4379-43ae-8697-03c4a76d5a20\" class=\"colab-df-container\">\n",
              "    <div>\n",
              "<style scoped>\n",
              "    .dataframe tbody tr th:only-of-type {\n",
              "        vertical-align: middle;\n",
              "    }\n",
              "\n",
              "    .dataframe tbody tr th {\n",
              "        vertical-align: top;\n",
              "    }\n",
              "\n",
              "    .dataframe thead th {\n",
              "        text-align: right;\n",
              "    }\n",
              "</style>\n",
              "<table border=\"1\" class=\"dataframe\">\n",
              "  <thead>\n",
              "    <tr style=\"text-align: right;\">\n",
              "      <th></th>\n",
              "      <th>data</th>\n",
              "      <th>categoria</th>\n",
              "      <th>produto</th>\n",
              "      <th>regiao</th>\n",
              "      <th>estado</th>\n",
              "      <th>canal_venda</th>\n",
              "      <th>valor_venda</th>\n",
              "      <th>quantidade</th>\n",
              "      <th>avaliacao</th>\n",
              "    </tr>\n",
              "  </thead>\n",
              "  <tbody>\n",
              "    <tr>\n",
              "      <th>0</th>\n",
              "      <td>2023-04-13 00:00:00</td>\n",
              "      <td>Casa</td>\n",
              "      <td>Armário</td>\n",
              "      <td>Centro-Oeste</td>\n",
              "      <td>MS</td>\n",
              "      <td>Online</td>\n",
              "      <td>2988.28</td>\n",
              "      <td>3</td>\n",
              "      <td>3</td>\n",
              "    </tr>\n",
              "    <tr>\n",
              "      <th>1</th>\n",
              "      <td>2023-03-29 00:00:00</td>\n",
              "      <td>Beleza</td>\n",
              "      <td>Perfume</td>\n",
              "      <td>Centro-Oeste</td>\n",
              "      <td>GO</td>\n",
              "      <td>Online</td>\n",
              "      <td>4849.85</td>\n",
              "      <td>6</td>\n",
              "      <td>2</td>\n",
              "    </tr>\n",
              "    <tr>\n",
              "      <th>2</th>\n",
              "      <td>2023-07-11 00:00:00</td>\n",
              "      <td>Casa</td>\n",
              "      <td>Armário</td>\n",
              "      <td>Norte</td>\n",
              "      <td>RR</td>\n",
              "      <td>Loja Física</td>\n",
              "      <td>2628.53</td>\n",
              "      <td>9</td>\n",
              "      <td>1</td>\n",
              "    </tr>\n",
              "    <tr>\n",
              "      <th>3</th>\n",
              "      <td>2023-02-28 00:00:00</td>\n",
              "      <td>Roupas</td>\n",
              "      <td>Sapato</td>\n",
              "      <td>Sudeste</td>\n",
              "      <td>ES</td>\n",
              "      <td>Aplicativo</td>\n",
              "      <td>2285.79</td>\n",
              "      <td>3</td>\n",
              "      <td>4</td>\n",
              "    </tr>\n",
              "    <tr>\n",
              "      <th>4</th>\n",
              "      <td>2023-02-24 00:00:00</td>\n",
              "      <td>Casa</td>\n",
              "      <td>Sofá</td>\n",
              "      <td>Centro-Oeste</td>\n",
              "      <td>DF</td>\n",
              "      <td>Aplicativo</td>\n",
              "      <td>3404.73</td>\n",
              "      <td>9</td>\n",
              "      <td>2</td>\n",
              "    </tr>\n",
              "  </tbody>\n",
              "</table>\n",
              "</div>\n",
              "    <div class=\"colab-df-buttons\">\n",
              "\n",
              "  <div class=\"colab-df-container\">\n",
              "    <button class=\"colab-df-convert\" onclick=\"convertToInteractive('df-9459017b-4379-43ae-8697-03c4a76d5a20')\"\n",
              "            title=\"Convert this dataframe to an interactive table.\"\n",
              "            style=\"display:none;\">\n",
              "\n",
              "  <svg xmlns=\"http://www.w3.org/2000/svg\" height=\"24px\" viewBox=\"0 -960 960 960\">\n",
              "    <path d=\"M120-120v-720h720v720H120Zm60-500h600v-160H180v160Zm220 220h160v-160H400v160Zm0 220h160v-160H400v160ZM180-400h160v-160H180v160Zm440 0h160v-160H620v160ZM180-180h160v-160H180v160Zm440 0h160v-160H620v160Z\"/>\n",
              "  </svg>\n",
              "    </button>\n",
              "\n",
              "  <style>\n",
              "    .colab-df-container {\n",
              "      display:flex;\n",
              "      gap: 12px;\n",
              "    }\n",
              "\n",
              "    .colab-df-convert {\n",
              "      background-color: #E8F0FE;\n",
              "      border: none;\n",
              "      border-radius: 50%;\n",
              "      cursor: pointer;\n",
              "      display: none;\n",
              "      fill: #1967D2;\n",
              "      height: 32px;\n",
              "      padding: 0 0 0 0;\n",
              "      width: 32px;\n",
              "    }\n",
              "\n",
              "    .colab-df-convert:hover {\n",
              "      background-color: #E2EBFA;\n",
              "      box-shadow: 0px 1px 2px rgba(60, 64, 67, 0.3), 0px 1px 3px 1px rgba(60, 64, 67, 0.15);\n",
              "      fill: #174EA6;\n",
              "    }\n",
              "\n",
              "    .colab-df-buttons div {\n",
              "      margin-bottom: 4px;\n",
              "    }\n",
              "\n",
              "    [theme=dark] .colab-df-convert {\n",
              "      background-color: #3B4455;\n",
              "      fill: #D2E3FC;\n",
              "    }\n",
              "\n",
              "    [theme=dark] .colab-df-convert:hover {\n",
              "      background-color: #434B5C;\n",
              "      box-shadow: 0px 1px 3px 1px rgba(0, 0, 0, 0.15);\n",
              "      filter: drop-shadow(0px 1px 2px rgba(0, 0, 0, 0.3));\n",
              "      fill: #FFFFFF;\n",
              "    }\n",
              "  </style>\n",
              "\n",
              "    <script>\n",
              "      const buttonEl =\n",
              "        document.querySelector('#df-9459017b-4379-43ae-8697-03c4a76d5a20 button.colab-df-convert');\n",
              "      buttonEl.style.display =\n",
              "        google.colab.kernel.accessAllowed ? 'block' : 'none';\n",
              "\n",
              "      async function convertToInteractive(key) {\n",
              "        const element = document.querySelector('#df-9459017b-4379-43ae-8697-03c4a76d5a20');\n",
              "        const dataTable =\n",
              "          await google.colab.kernel.invokeFunction('convertToInteractive',\n",
              "                                                    [key], {});\n",
              "        if (!dataTable) return;\n",
              "\n",
              "        const docLinkHtml = 'Like what you see? Visit the ' +\n",
              "          '<a target=\"_blank\" href=https://colab.research.google.com/notebooks/data_table.ipynb>data table notebook</a>'\n",
              "          + ' to learn more about interactive tables.';\n",
              "        element.innerHTML = '';\n",
              "        dataTable['output_type'] = 'display_data';\n",
              "        await google.colab.output.renderOutput(dataTable, element);\n",
              "        const docLink = document.createElement('div');\n",
              "        docLink.innerHTML = docLinkHtml;\n",
              "        element.appendChild(docLink);\n",
              "      }\n",
              "    </script>\n",
              "  </div>\n",
              "\n",
              "\n",
              "    <div id=\"df-5499b027-afc3-451e-8a4c-19b15ed38d00\">\n",
              "      <button class=\"colab-df-quickchart\" onclick=\"quickchart('df-5499b027-afc3-451e-8a4c-19b15ed38d00')\"\n",
              "                title=\"Suggest charts\"\n",
              "                style=\"display:none;\">\n",
              "\n",
              "<svg xmlns=\"http://www.w3.org/2000/svg\" height=\"24px\"viewBox=\"0 0 24 24\"\n",
              "     width=\"24px\">\n",
              "    <g>\n",
              "        <path d=\"M19 3H5c-1.1 0-2 .9-2 2v14c0 1.1.9 2 2 2h14c1.1 0 2-.9 2-2V5c0-1.1-.9-2-2-2zM9 17H7v-7h2v7zm4 0h-2V7h2v10zm4 0h-2v-4h2v4z\"/>\n",
              "    </g>\n",
              "</svg>\n",
              "      </button>\n",
              "\n",
              "<style>\n",
              "  .colab-df-quickchart {\n",
              "      --bg-color: #E8F0FE;\n",
              "      --fill-color: #1967D2;\n",
              "      --hover-bg-color: #E2EBFA;\n",
              "      --hover-fill-color: #174EA6;\n",
              "      --disabled-fill-color: #AAA;\n",
              "      --disabled-bg-color: #DDD;\n",
              "  }\n",
              "\n",
              "  [theme=dark] .colab-df-quickchart {\n",
              "      --bg-color: #3B4455;\n",
              "      --fill-color: #D2E3FC;\n",
              "      --hover-bg-color: #434B5C;\n",
              "      --hover-fill-color: #FFFFFF;\n",
              "      --disabled-bg-color: #3B4455;\n",
              "      --disabled-fill-color: #666;\n",
              "  }\n",
              "\n",
              "  .colab-df-quickchart {\n",
              "    background-color: var(--bg-color);\n",
              "    border: none;\n",
              "    border-radius: 50%;\n",
              "    cursor: pointer;\n",
              "    display: none;\n",
              "    fill: var(--fill-color);\n",
              "    height: 32px;\n",
              "    padding: 0;\n",
              "    width: 32px;\n",
              "  }\n",
              "\n",
              "  .colab-df-quickchart:hover {\n",
              "    background-color: var(--hover-bg-color);\n",
              "    box-shadow: 0 1px 2px rgba(60, 64, 67, 0.3), 0 1px 3px 1px rgba(60, 64, 67, 0.15);\n",
              "    fill: var(--button-hover-fill-color);\n",
              "  }\n",
              "\n",
              "  .colab-df-quickchart-complete:disabled,\n",
              "  .colab-df-quickchart-complete:disabled:hover {\n",
              "    background-color: var(--disabled-bg-color);\n",
              "    fill: var(--disabled-fill-color);\n",
              "    box-shadow: none;\n",
              "  }\n",
              "\n",
              "  .colab-df-spinner {\n",
              "    border: 2px solid var(--fill-color);\n",
              "    border-color: transparent;\n",
              "    border-bottom-color: var(--fill-color);\n",
              "    animation:\n",
              "      spin 1s steps(1) infinite;\n",
              "  }\n",
              "\n",
              "  @keyframes spin {\n",
              "    0% {\n",
              "      border-color: transparent;\n",
              "      border-bottom-color: var(--fill-color);\n",
              "      border-left-color: var(--fill-color);\n",
              "    }\n",
              "    20% {\n",
              "      border-color: transparent;\n",
              "      border-left-color: var(--fill-color);\n",
              "      border-top-color: var(--fill-color);\n",
              "    }\n",
              "    30% {\n",
              "      border-color: transparent;\n",
              "      border-left-color: var(--fill-color);\n",
              "      border-top-color: var(--fill-color);\n",
              "      border-right-color: var(--fill-color);\n",
              "    }\n",
              "    40% {\n",
              "      border-color: transparent;\n",
              "      border-right-color: var(--fill-color);\n",
              "      border-top-color: var(--fill-color);\n",
              "    }\n",
              "    60% {\n",
              "      border-color: transparent;\n",
              "      border-right-color: var(--fill-color);\n",
              "    }\n",
              "    80% {\n",
              "      border-color: transparent;\n",
              "      border-right-color: var(--fill-color);\n",
              "      border-bottom-color: var(--fill-color);\n",
              "    }\n",
              "    90% {\n",
              "      border-color: transparent;\n",
              "      border-bottom-color: var(--fill-color);\n",
              "    }\n",
              "  }\n",
              "</style>\n",
              "\n",
              "      <script>\n",
              "        async function quickchart(key) {\n",
              "          const quickchartButtonEl =\n",
              "            document.querySelector('#' + key + ' button');\n",
              "          quickchartButtonEl.disabled = true;  // To prevent multiple clicks.\n",
              "          quickchartButtonEl.classList.add('colab-df-spinner');\n",
              "          try {\n",
              "            const charts = await google.colab.kernel.invokeFunction(\n",
              "                'suggestCharts', [key], {});\n",
              "          } catch (error) {\n",
              "            console.error('Error during call to suggestCharts:', error);\n",
              "          }\n",
              "          quickchartButtonEl.classList.remove('colab-df-spinner');\n",
              "          quickchartButtonEl.classList.add('colab-df-quickchart-complete');\n",
              "        }\n",
              "        (() => {\n",
              "          let quickchartButtonEl =\n",
              "            document.querySelector('#df-5499b027-afc3-451e-8a4c-19b15ed38d00 button');\n",
              "          quickchartButtonEl.style.display =\n",
              "            google.colab.kernel.accessAllowed ? 'block' : 'none';\n",
              "        })();\n",
              "      </script>\n",
              "    </div>\n",
              "\n",
              "    </div>\n",
              "  </div>\n"
            ],
            "application/vnd.google.colaboratory.intrinsic+json": {
              "type": "dataframe",
              "variable_name": "df_vendas",
              "summary": "{\n  \"name\": \"df_vendas\",\n  \"rows\": 1000,\n  \"fields\": [\n    {\n      \"column\": \"data\",\n      \"properties\": {\n        \"dtype\": \"date\",\n        \"min\": \"2023-01-01 00:00:00\",\n        \"max\": \"2023-12-31 00:00:00\",\n        \"num_unique_values\": 338,\n        \"samples\": [\n          \"2023-03-16 00:00:00\",\n          \"2023-08-07 00:00:00\",\n          \"2023-10-19 00:00:00\"\n        ],\n        \"semantic_type\": \"\",\n        \"description\": \"\"\n      }\n    },\n    {\n      \"column\": \"categoria\",\n      \"properties\": {\n        \"dtype\": \"category\",\n        \"num_unique_values\": 5,\n        \"samples\": [\n          \"Beleza\",\n          \"Eletr\\u00f4nicos\",\n          \"Roupas\"\n        ],\n        \"semantic_type\": \"\",\n        \"description\": \"\"\n      }\n    },\n    {\n      \"column\": \"produto\",\n      \"properties\": {\n        \"dtype\": \"category\",\n        \"num_unique_values\": 25,\n        \"samples\": [\n          \"Shampoo\",\n          \"Camiseta\",\n          \"Arm\\u00e1rio\"\n        ],\n        \"semantic_type\": \"\",\n        \"description\": \"\"\n      }\n    },\n    {\n      \"column\": \"regiao\",\n      \"properties\": {\n        \"dtype\": \"category\",\n        \"num_unique_values\": 5,\n        \"samples\": [\n          \"Norte\",\n          \"Sul\",\n          \"Sudeste\"\n        ],\n        \"semantic_type\": \"\",\n        \"description\": \"\"\n      }\n    },\n    {\n      \"column\": \"estado\",\n      \"properties\": {\n        \"dtype\": \"category\",\n        \"num_unique_values\": 21,\n        \"samples\": [\n          \"MS\",\n          \"SP\",\n          \"AC\"\n        ],\n        \"semantic_type\": \"\",\n        \"description\": \"\"\n      }\n    },\n    {\n      \"column\": \"canal_venda\",\n      \"properties\": {\n        \"dtype\": \"category\",\n        \"num_unique_values\": 4,\n        \"samples\": [\n          \"Loja F\\u00edsica\",\n          \"Telefone\",\n          \"Online\"\n        ],\n        \"semantic_type\": \"\",\n        \"description\": \"\"\n      }\n    },\n    {\n      \"column\": \"valor_venda\",\n      \"properties\": {\n        \"dtype\": \"number\",\n        \"std\": 1459.098609650825,\n        \"min\": 11.13,\n        \"max\": 4997.31,\n        \"num_unique_values\": 1000,\n        \"samples\": [\n          3293.83,\n          191.94,\n          4831.71\n        ],\n        \"semantic_type\": \"\",\n        \"description\": \"\"\n      }\n    },\n    {\n      \"column\": \"quantidade\",\n      \"properties\": {\n        \"dtype\": \"number\",\n        \"std\": 2,\n        \"min\": 1,\n        \"max\": 9,\n        \"num_unique_values\": 9,\n        \"samples\": [\n          2,\n          6,\n          7\n        ],\n        \"semantic_type\": \"\",\n        \"description\": \"\"\n      }\n    },\n    {\n      \"column\": \"avaliacao\",\n      \"properties\": {\n        \"dtype\": \"number\",\n        \"std\": 1,\n        \"min\": 1,\n        \"max\": 5,\n        \"num_unique_values\": 5,\n        \"samples\": [\n          2,\n          5,\n          1\n        ],\n        \"semantic_type\": \"\",\n        \"description\": \"\"\n      }\n    }\n  ]\n}"
            }
          },
          "metadata": {},
          "execution_count": 4
        }
      ],
      "source": [
        "# Visualizando as primeiras linhas com head()\n",
        "print(\"Primeiras 5 linhas do DataFrame:\")\n",
        "df_vendas.head()"
      ]
    },
    {
      "cell_type": "code",
      "execution_count": 5,
      "id": "15da4a91-b9fa-4251-ba6a-78eac4b38854",
      "metadata": {
        "id": "15da4a91-b9fa-4251-ba6a-78eac4b38854",
        "outputId": "a0346b75-6f2e-488b-b987-89998486b925",
        "colab": {
          "base_uri": "https://localhost:8080/",
          "height": 224
        }
      },
      "outputs": [
        {
          "output_type": "stream",
          "name": "stdout",
          "text": [
            "Últimas 5 linhas do DataFrame:\n"
          ]
        },
        {
          "output_type": "execute_result",
          "data": {
            "text/plain": [
              "                    data    categoria  produto        regiao estado  \\\n",
              "995  2023-11-11 00:00:00  Eletrônicos   Laptop      Nordeste     MA   \n",
              "996  2023-05-12 00:00:00    Alimentos   Feijão  Centro-Oeste     GO   \n",
              "997  2023-11-27 00:00:00       Beleza  Shampoo  Centro-Oeste     DF   \n",
              "998  2023-11-06 00:00:00       Roupas    Calça      Nordeste     PE   \n",
              "999  2023-05-16 00:00:00    Alimentos     Óleo       Sudeste     MG   \n",
              "\n",
              "     canal_venda  valor_venda  quantidade  avaliacao  \n",
              "995       Online      3838.49           9          2  \n",
              "996  Loja Física       540.33           1          3  \n",
              "997  Loja Física      4176.15           2          1  \n",
              "998  Loja Física      2413.13           3          4  \n",
              "999  Loja Física      1162.59           1          3  "
            ],
            "text/html": [
              "\n",
              "  <div id=\"df-74c864fd-a2ad-4347-8977-58db72f4ca5b\" class=\"colab-df-container\">\n",
              "    <div>\n",
              "<style scoped>\n",
              "    .dataframe tbody tr th:only-of-type {\n",
              "        vertical-align: middle;\n",
              "    }\n",
              "\n",
              "    .dataframe tbody tr th {\n",
              "        vertical-align: top;\n",
              "    }\n",
              "\n",
              "    .dataframe thead th {\n",
              "        text-align: right;\n",
              "    }\n",
              "</style>\n",
              "<table border=\"1\" class=\"dataframe\">\n",
              "  <thead>\n",
              "    <tr style=\"text-align: right;\">\n",
              "      <th></th>\n",
              "      <th>data</th>\n",
              "      <th>categoria</th>\n",
              "      <th>produto</th>\n",
              "      <th>regiao</th>\n",
              "      <th>estado</th>\n",
              "      <th>canal_venda</th>\n",
              "      <th>valor_venda</th>\n",
              "      <th>quantidade</th>\n",
              "      <th>avaliacao</th>\n",
              "    </tr>\n",
              "  </thead>\n",
              "  <tbody>\n",
              "    <tr>\n",
              "      <th>995</th>\n",
              "      <td>2023-11-11 00:00:00</td>\n",
              "      <td>Eletrônicos</td>\n",
              "      <td>Laptop</td>\n",
              "      <td>Nordeste</td>\n",
              "      <td>MA</td>\n",
              "      <td>Online</td>\n",
              "      <td>3838.49</td>\n",
              "      <td>9</td>\n",
              "      <td>2</td>\n",
              "    </tr>\n",
              "    <tr>\n",
              "      <th>996</th>\n",
              "      <td>2023-05-12 00:00:00</td>\n",
              "      <td>Alimentos</td>\n",
              "      <td>Feijão</td>\n",
              "      <td>Centro-Oeste</td>\n",
              "      <td>GO</td>\n",
              "      <td>Loja Física</td>\n",
              "      <td>540.33</td>\n",
              "      <td>1</td>\n",
              "      <td>3</td>\n",
              "    </tr>\n",
              "    <tr>\n",
              "      <th>997</th>\n",
              "      <td>2023-11-27 00:00:00</td>\n",
              "      <td>Beleza</td>\n",
              "      <td>Shampoo</td>\n",
              "      <td>Centro-Oeste</td>\n",
              "      <td>DF</td>\n",
              "      <td>Loja Física</td>\n",
              "      <td>4176.15</td>\n",
              "      <td>2</td>\n",
              "      <td>1</td>\n",
              "    </tr>\n",
              "    <tr>\n",
              "      <th>998</th>\n",
              "      <td>2023-11-06 00:00:00</td>\n",
              "      <td>Roupas</td>\n",
              "      <td>Calça</td>\n",
              "      <td>Nordeste</td>\n",
              "      <td>PE</td>\n",
              "      <td>Loja Física</td>\n",
              "      <td>2413.13</td>\n",
              "      <td>3</td>\n",
              "      <td>4</td>\n",
              "    </tr>\n",
              "    <tr>\n",
              "      <th>999</th>\n",
              "      <td>2023-05-16 00:00:00</td>\n",
              "      <td>Alimentos</td>\n",
              "      <td>Óleo</td>\n",
              "      <td>Sudeste</td>\n",
              "      <td>MG</td>\n",
              "      <td>Loja Física</td>\n",
              "      <td>1162.59</td>\n",
              "      <td>1</td>\n",
              "      <td>3</td>\n",
              "    </tr>\n",
              "  </tbody>\n",
              "</table>\n",
              "</div>\n",
              "    <div class=\"colab-df-buttons\">\n",
              "\n",
              "  <div class=\"colab-df-container\">\n",
              "    <button class=\"colab-df-convert\" onclick=\"convertToInteractive('df-74c864fd-a2ad-4347-8977-58db72f4ca5b')\"\n",
              "            title=\"Convert this dataframe to an interactive table.\"\n",
              "            style=\"display:none;\">\n",
              "\n",
              "  <svg xmlns=\"http://www.w3.org/2000/svg\" height=\"24px\" viewBox=\"0 -960 960 960\">\n",
              "    <path d=\"M120-120v-720h720v720H120Zm60-500h600v-160H180v160Zm220 220h160v-160H400v160Zm0 220h160v-160H400v160ZM180-400h160v-160H180v160Zm440 0h160v-160H620v160ZM180-180h160v-160H180v160Zm440 0h160v-160H620v160Z\"/>\n",
              "  </svg>\n",
              "    </button>\n",
              "\n",
              "  <style>\n",
              "    .colab-df-container {\n",
              "      display:flex;\n",
              "      gap: 12px;\n",
              "    }\n",
              "\n",
              "    .colab-df-convert {\n",
              "      background-color: #E8F0FE;\n",
              "      border: none;\n",
              "      border-radius: 50%;\n",
              "      cursor: pointer;\n",
              "      display: none;\n",
              "      fill: #1967D2;\n",
              "      height: 32px;\n",
              "      padding: 0 0 0 0;\n",
              "      width: 32px;\n",
              "    }\n",
              "\n",
              "    .colab-df-convert:hover {\n",
              "      background-color: #E2EBFA;\n",
              "      box-shadow: 0px 1px 2px rgba(60, 64, 67, 0.3), 0px 1px 3px 1px rgba(60, 64, 67, 0.15);\n",
              "      fill: #174EA6;\n",
              "    }\n",
              "\n",
              "    .colab-df-buttons div {\n",
              "      margin-bottom: 4px;\n",
              "    }\n",
              "\n",
              "    [theme=dark] .colab-df-convert {\n",
              "      background-color: #3B4455;\n",
              "      fill: #D2E3FC;\n",
              "    }\n",
              "\n",
              "    [theme=dark] .colab-df-convert:hover {\n",
              "      background-color: #434B5C;\n",
              "      box-shadow: 0px 1px 3px 1px rgba(0, 0, 0, 0.15);\n",
              "      filter: drop-shadow(0px 1px 2px rgba(0, 0, 0, 0.3));\n",
              "      fill: #FFFFFF;\n",
              "    }\n",
              "  </style>\n",
              "\n",
              "    <script>\n",
              "      const buttonEl =\n",
              "        document.querySelector('#df-74c864fd-a2ad-4347-8977-58db72f4ca5b button.colab-df-convert');\n",
              "      buttonEl.style.display =\n",
              "        google.colab.kernel.accessAllowed ? 'block' : 'none';\n",
              "\n",
              "      async function convertToInteractive(key) {\n",
              "        const element = document.querySelector('#df-74c864fd-a2ad-4347-8977-58db72f4ca5b');\n",
              "        const dataTable =\n",
              "          await google.colab.kernel.invokeFunction('convertToInteractive',\n",
              "                                                    [key], {});\n",
              "        if (!dataTable) return;\n",
              "\n",
              "        const docLinkHtml = 'Like what you see? Visit the ' +\n",
              "          '<a target=\"_blank\" href=https://colab.research.google.com/notebooks/data_table.ipynb>data table notebook</a>'\n",
              "          + ' to learn more about interactive tables.';\n",
              "        element.innerHTML = '';\n",
              "        dataTable['output_type'] = 'display_data';\n",
              "        await google.colab.output.renderOutput(dataTable, element);\n",
              "        const docLink = document.createElement('div');\n",
              "        docLink.innerHTML = docLinkHtml;\n",
              "        element.appendChild(docLink);\n",
              "      }\n",
              "    </script>\n",
              "  </div>\n",
              "\n",
              "\n",
              "    <div id=\"df-ef336052-2580-418d-9b04-c49a852e0859\">\n",
              "      <button class=\"colab-df-quickchart\" onclick=\"quickchart('df-ef336052-2580-418d-9b04-c49a852e0859')\"\n",
              "                title=\"Suggest charts\"\n",
              "                style=\"display:none;\">\n",
              "\n",
              "<svg xmlns=\"http://www.w3.org/2000/svg\" height=\"24px\"viewBox=\"0 0 24 24\"\n",
              "     width=\"24px\">\n",
              "    <g>\n",
              "        <path d=\"M19 3H5c-1.1 0-2 .9-2 2v14c0 1.1.9 2 2 2h14c1.1 0 2-.9 2-2V5c0-1.1-.9-2-2-2zM9 17H7v-7h2v7zm4 0h-2V7h2v10zm4 0h-2v-4h2v4z\"/>\n",
              "    </g>\n",
              "</svg>\n",
              "      </button>\n",
              "\n",
              "<style>\n",
              "  .colab-df-quickchart {\n",
              "      --bg-color: #E8F0FE;\n",
              "      --fill-color: #1967D2;\n",
              "      --hover-bg-color: #E2EBFA;\n",
              "      --hover-fill-color: #174EA6;\n",
              "      --disabled-fill-color: #AAA;\n",
              "      --disabled-bg-color: #DDD;\n",
              "  }\n",
              "\n",
              "  [theme=dark] .colab-df-quickchart {\n",
              "      --bg-color: #3B4455;\n",
              "      --fill-color: #D2E3FC;\n",
              "      --hover-bg-color: #434B5C;\n",
              "      --hover-fill-color: #FFFFFF;\n",
              "      --disabled-bg-color: #3B4455;\n",
              "      --disabled-fill-color: #666;\n",
              "  }\n",
              "\n",
              "  .colab-df-quickchart {\n",
              "    background-color: var(--bg-color);\n",
              "    border: none;\n",
              "    border-radius: 50%;\n",
              "    cursor: pointer;\n",
              "    display: none;\n",
              "    fill: var(--fill-color);\n",
              "    height: 32px;\n",
              "    padding: 0;\n",
              "    width: 32px;\n",
              "  }\n",
              "\n",
              "  .colab-df-quickchart:hover {\n",
              "    background-color: var(--hover-bg-color);\n",
              "    box-shadow: 0 1px 2px rgba(60, 64, 67, 0.3), 0 1px 3px 1px rgba(60, 64, 67, 0.15);\n",
              "    fill: var(--button-hover-fill-color);\n",
              "  }\n",
              "\n",
              "  .colab-df-quickchart-complete:disabled,\n",
              "  .colab-df-quickchart-complete:disabled:hover {\n",
              "    background-color: var(--disabled-bg-color);\n",
              "    fill: var(--disabled-fill-color);\n",
              "    box-shadow: none;\n",
              "  }\n",
              "\n",
              "  .colab-df-spinner {\n",
              "    border: 2px solid var(--fill-color);\n",
              "    border-color: transparent;\n",
              "    border-bottom-color: var(--fill-color);\n",
              "    animation:\n",
              "      spin 1s steps(1) infinite;\n",
              "  }\n",
              "\n",
              "  @keyframes spin {\n",
              "    0% {\n",
              "      border-color: transparent;\n",
              "      border-bottom-color: var(--fill-color);\n",
              "      border-left-color: var(--fill-color);\n",
              "    }\n",
              "    20% {\n",
              "      border-color: transparent;\n",
              "      border-left-color: var(--fill-color);\n",
              "      border-top-color: var(--fill-color);\n",
              "    }\n",
              "    30% {\n",
              "      border-color: transparent;\n",
              "      border-left-color: var(--fill-color);\n",
              "      border-top-color: var(--fill-color);\n",
              "      border-right-color: var(--fill-color);\n",
              "    }\n",
              "    40% {\n",
              "      border-color: transparent;\n",
              "      border-right-color: var(--fill-color);\n",
              "      border-top-color: var(--fill-color);\n",
              "    }\n",
              "    60% {\n",
              "      border-color: transparent;\n",
              "      border-right-color: var(--fill-color);\n",
              "    }\n",
              "    80% {\n",
              "      border-color: transparent;\n",
              "      border-right-color: var(--fill-color);\n",
              "      border-bottom-color: var(--fill-color);\n",
              "    }\n",
              "    90% {\n",
              "      border-color: transparent;\n",
              "      border-bottom-color: var(--fill-color);\n",
              "    }\n",
              "  }\n",
              "</style>\n",
              "\n",
              "      <script>\n",
              "        async function quickchart(key) {\n",
              "          const quickchartButtonEl =\n",
              "            document.querySelector('#' + key + ' button');\n",
              "          quickchartButtonEl.disabled = true;  // To prevent multiple clicks.\n",
              "          quickchartButtonEl.classList.add('colab-df-spinner');\n",
              "          try {\n",
              "            const charts = await google.colab.kernel.invokeFunction(\n",
              "                'suggestCharts', [key], {});\n",
              "          } catch (error) {\n",
              "            console.error('Error during call to suggestCharts:', error);\n",
              "          }\n",
              "          quickchartButtonEl.classList.remove('colab-df-spinner');\n",
              "          quickchartButtonEl.classList.add('colab-df-quickchart-complete');\n",
              "        }\n",
              "        (() => {\n",
              "          let quickchartButtonEl =\n",
              "            document.querySelector('#df-ef336052-2580-418d-9b04-c49a852e0859 button');\n",
              "          quickchartButtonEl.style.display =\n",
              "            google.colab.kernel.accessAllowed ? 'block' : 'none';\n",
              "        })();\n",
              "      </script>\n",
              "    </div>\n",
              "\n",
              "    </div>\n",
              "  </div>\n"
            ],
            "application/vnd.google.colaboratory.intrinsic+json": {
              "type": "dataframe",
              "repr_error": "0"
            }
          },
          "metadata": {},
          "execution_count": 5
        }
      ],
      "source": [
        "# Visualizando as últimas linhas com tail()\n",
        "print(\"Últimas 5 linhas do DataFrame:\")\n",
        "df_vendas.tail()"
      ]
    },
    {
      "cell_type": "code",
      "execution_count": 6,
      "id": "75a1d4ad-31c3-4b1f-8cef-bc98045cce50",
      "metadata": {
        "id": "75a1d4ad-31c3-4b1f-8cef-bc98045cce50",
        "outputId": "b63dcfc4-46b3-493d-9875-49995471ef21",
        "colab": {
          "base_uri": "https://localhost:8080/"
        }
      },
      "outputs": [
        {
          "output_type": "stream",
          "name": "stdout",
          "text": [
            "Formato do DataFrame: (1000, 9)\n",
            "Número de linhas: 1000\n",
            "Número de colunas: 9\n"
          ]
        }
      ],
      "source": [
        "# Verificando o formato do DataFrame (linhas, colunas) com shape\n",
        "print(f\"Formato do DataFrame: {df_vendas.shape}\")\n",
        "print(f\"Número de linhas: {df_vendas.shape[0]}\")\n",
        "print(f\"Número de colunas: {df_vendas.shape[1]}\")"
      ]
    },
    {
      "cell_type": "code",
      "execution_count": 7,
      "id": "9aa6b1fe-bb56-41b8-8956-42603d818966",
      "metadata": {
        "id": "9aa6b1fe-bb56-41b8-8956-42603d818966",
        "outputId": "b23ecc72-88a3-43e0-e450-a81149647231",
        "colab": {
          "base_uri": "https://localhost:8080/"
        }
      },
      "outputs": [
        {
          "output_type": "stream",
          "name": "stdout",
          "text": [
            "Nomes das colunas:\n",
            "['data', 'categoria', 'produto', 'regiao', 'estado', 'canal_venda', 'valor_venda', 'quantidade', 'avaliacao']\n"
          ]
        }
      ],
      "source": [
        "print(\"Nomes das colunas:\")\n",
        "print(df_vendas.columns.tolist())"
      ]
    },
    {
      "cell_type": "markdown",
      "id": "65ffe237-0163-4e30-b25e-6db54a151bf4",
      "metadata": {
        "id": "65ffe237-0163-4e30-b25e-6db54a151bf4"
      },
      "source": [
        "### 1.4 Informações e Estatísticas do DataFrame\n",
        "\n",
        "Pandas oferece métodos para obter informações detalhadas e estatísticas do DataFrame:"
      ]
    },
    {
      "cell_type": "code",
      "execution_count": 8,
      "id": "401922e3-8c23-4cfa-a9fa-b03eeb0f02d7",
      "metadata": {
        "id": "401922e3-8c23-4cfa-a9fa-b03eeb0f02d7",
        "outputId": "09203c70-40d5-4d8f-8ff9-60e79bb2d6ca",
        "colab": {
          "base_uri": "https://localhost:8080/"
        }
      },
      "outputs": [
        {
          "output_type": "stream",
          "name": "stdout",
          "text": [
            "Informações do DataFrame:\n",
            "<class 'pandas.core.frame.DataFrame'>\n",
            "RangeIndex: 1000 entries, 0 to 999\n",
            "Data columns (total 9 columns):\n",
            " #   Column       Non-Null Count  Dtype  \n",
            "---  ------       --------------  -----  \n",
            " 0   data         1000 non-null   object \n",
            " 1   categoria    1000 non-null   object \n",
            " 2   produto      1000 non-null   object \n",
            " 3   regiao       1000 non-null   object \n",
            " 4   estado       1000 non-null   object \n",
            " 5   canal_venda  1000 non-null   object \n",
            " 6   valor_venda  1000 non-null   float64\n",
            " 7   quantidade   1000 non-null   int64  \n",
            " 8   avaliacao    1000 non-null   int64  \n",
            "dtypes: float64(1), int64(2), object(6)\n",
            "memory usage: 70.4+ KB\n"
          ]
        }
      ],
      "source": [
        "# Verificando informações sobre o DataFrame com info()\n",
        "print(\"Informações do DataFrame:\")\n",
        "df_vendas.info()"
      ]
    },
    {
      "cell_type": "code",
      "execution_count": 9,
      "id": "bff05bb9-6648-40ca-a23a-f5cd14337042",
      "metadata": {
        "id": "bff05bb9-6648-40ca-a23a-f5cd14337042",
        "outputId": "dcb6e963-76ab-4987-f10c-f01ecf55b3f2",
        "colab": {
          "base_uri": "https://localhost:8080/",
          "height": 318
        }
      },
      "outputs": [
        {
          "output_type": "stream",
          "name": "stdout",
          "text": [
            "Estatísticas descritivas:\n"
          ]
        },
        {
          "output_type": "execute_result",
          "data": {
            "text/plain": [
              "       valor_venda  quantidade    avaliacao\n",
              "count   1000.00000  1000.00000  1000.000000\n",
              "mean    2436.61369     5.02400     3.065000\n",
              "std     1459.09861     2.60196     1.413072\n",
              "min       11.13000     1.00000     1.000000\n",
              "25%     1168.71000     3.00000     2.000000\n",
              "50%     2418.67000     5.00000     3.000000\n",
              "75%     3702.18000     7.00000     4.000000\n",
              "max     4997.31000     9.00000     5.000000"
            ],
            "text/html": [
              "\n",
              "  <div id=\"df-0f926fb5-353c-44d2-aa0d-6861dbbf9db4\" class=\"colab-df-container\">\n",
              "    <div>\n",
              "<style scoped>\n",
              "    .dataframe tbody tr th:only-of-type {\n",
              "        vertical-align: middle;\n",
              "    }\n",
              "\n",
              "    .dataframe tbody tr th {\n",
              "        vertical-align: top;\n",
              "    }\n",
              "\n",
              "    .dataframe thead th {\n",
              "        text-align: right;\n",
              "    }\n",
              "</style>\n",
              "<table border=\"1\" class=\"dataframe\">\n",
              "  <thead>\n",
              "    <tr style=\"text-align: right;\">\n",
              "      <th></th>\n",
              "      <th>valor_venda</th>\n",
              "      <th>quantidade</th>\n",
              "      <th>avaliacao</th>\n",
              "    </tr>\n",
              "  </thead>\n",
              "  <tbody>\n",
              "    <tr>\n",
              "      <th>count</th>\n",
              "      <td>1000.00000</td>\n",
              "      <td>1000.00000</td>\n",
              "      <td>1000.000000</td>\n",
              "    </tr>\n",
              "    <tr>\n",
              "      <th>mean</th>\n",
              "      <td>2436.61369</td>\n",
              "      <td>5.02400</td>\n",
              "      <td>3.065000</td>\n",
              "    </tr>\n",
              "    <tr>\n",
              "      <th>std</th>\n",
              "      <td>1459.09861</td>\n",
              "      <td>2.60196</td>\n",
              "      <td>1.413072</td>\n",
              "    </tr>\n",
              "    <tr>\n",
              "      <th>min</th>\n",
              "      <td>11.13000</td>\n",
              "      <td>1.00000</td>\n",
              "      <td>1.000000</td>\n",
              "    </tr>\n",
              "    <tr>\n",
              "      <th>25%</th>\n",
              "      <td>1168.71000</td>\n",
              "      <td>3.00000</td>\n",
              "      <td>2.000000</td>\n",
              "    </tr>\n",
              "    <tr>\n",
              "      <th>50%</th>\n",
              "      <td>2418.67000</td>\n",
              "      <td>5.00000</td>\n",
              "      <td>3.000000</td>\n",
              "    </tr>\n",
              "    <tr>\n",
              "      <th>75%</th>\n",
              "      <td>3702.18000</td>\n",
              "      <td>7.00000</td>\n",
              "      <td>4.000000</td>\n",
              "    </tr>\n",
              "    <tr>\n",
              "      <th>max</th>\n",
              "      <td>4997.31000</td>\n",
              "      <td>9.00000</td>\n",
              "      <td>5.000000</td>\n",
              "    </tr>\n",
              "  </tbody>\n",
              "</table>\n",
              "</div>\n",
              "    <div class=\"colab-df-buttons\">\n",
              "\n",
              "  <div class=\"colab-df-container\">\n",
              "    <button class=\"colab-df-convert\" onclick=\"convertToInteractive('df-0f926fb5-353c-44d2-aa0d-6861dbbf9db4')\"\n",
              "            title=\"Convert this dataframe to an interactive table.\"\n",
              "            style=\"display:none;\">\n",
              "\n",
              "  <svg xmlns=\"http://www.w3.org/2000/svg\" height=\"24px\" viewBox=\"0 -960 960 960\">\n",
              "    <path d=\"M120-120v-720h720v720H120Zm60-500h600v-160H180v160Zm220 220h160v-160H400v160Zm0 220h160v-160H400v160ZM180-400h160v-160H180v160Zm440 0h160v-160H620v160ZM180-180h160v-160H180v160Zm440 0h160v-160H620v160Z\"/>\n",
              "  </svg>\n",
              "    </button>\n",
              "\n",
              "  <style>\n",
              "    .colab-df-container {\n",
              "      display:flex;\n",
              "      gap: 12px;\n",
              "    }\n",
              "\n",
              "    .colab-df-convert {\n",
              "      background-color: #E8F0FE;\n",
              "      border: none;\n",
              "      border-radius: 50%;\n",
              "      cursor: pointer;\n",
              "      display: none;\n",
              "      fill: #1967D2;\n",
              "      height: 32px;\n",
              "      padding: 0 0 0 0;\n",
              "      width: 32px;\n",
              "    }\n",
              "\n",
              "    .colab-df-convert:hover {\n",
              "      background-color: #E2EBFA;\n",
              "      box-shadow: 0px 1px 2px rgba(60, 64, 67, 0.3), 0px 1px 3px 1px rgba(60, 64, 67, 0.15);\n",
              "      fill: #174EA6;\n",
              "    }\n",
              "\n",
              "    .colab-df-buttons div {\n",
              "      margin-bottom: 4px;\n",
              "    }\n",
              "\n",
              "    [theme=dark] .colab-df-convert {\n",
              "      background-color: #3B4455;\n",
              "      fill: #D2E3FC;\n",
              "    }\n",
              "\n",
              "    [theme=dark] .colab-df-convert:hover {\n",
              "      background-color: #434B5C;\n",
              "      box-shadow: 0px 1px 3px 1px rgba(0, 0, 0, 0.15);\n",
              "      filter: drop-shadow(0px 1px 2px rgba(0, 0, 0, 0.3));\n",
              "      fill: #FFFFFF;\n",
              "    }\n",
              "  </style>\n",
              "\n",
              "    <script>\n",
              "      const buttonEl =\n",
              "        document.querySelector('#df-0f926fb5-353c-44d2-aa0d-6861dbbf9db4 button.colab-df-convert');\n",
              "      buttonEl.style.display =\n",
              "        google.colab.kernel.accessAllowed ? 'block' : 'none';\n",
              "\n",
              "      async function convertToInteractive(key) {\n",
              "        const element = document.querySelector('#df-0f926fb5-353c-44d2-aa0d-6861dbbf9db4');\n",
              "        const dataTable =\n",
              "          await google.colab.kernel.invokeFunction('convertToInteractive',\n",
              "                                                    [key], {});\n",
              "        if (!dataTable) return;\n",
              "\n",
              "        const docLinkHtml = 'Like what you see? Visit the ' +\n",
              "          '<a target=\"_blank\" href=https://colab.research.google.com/notebooks/data_table.ipynb>data table notebook</a>'\n",
              "          + ' to learn more about interactive tables.';\n",
              "        element.innerHTML = '';\n",
              "        dataTable['output_type'] = 'display_data';\n",
              "        await google.colab.output.renderOutput(dataTable, element);\n",
              "        const docLink = document.createElement('div');\n",
              "        docLink.innerHTML = docLinkHtml;\n",
              "        element.appendChild(docLink);\n",
              "      }\n",
              "    </script>\n",
              "  </div>\n",
              "\n",
              "\n",
              "    <div id=\"df-69f3494d-c3e0-453b-9f81-88649e81ef79\">\n",
              "      <button class=\"colab-df-quickchart\" onclick=\"quickchart('df-69f3494d-c3e0-453b-9f81-88649e81ef79')\"\n",
              "                title=\"Suggest charts\"\n",
              "                style=\"display:none;\">\n",
              "\n",
              "<svg xmlns=\"http://www.w3.org/2000/svg\" height=\"24px\"viewBox=\"0 0 24 24\"\n",
              "     width=\"24px\">\n",
              "    <g>\n",
              "        <path d=\"M19 3H5c-1.1 0-2 .9-2 2v14c0 1.1.9 2 2 2h14c1.1 0 2-.9 2-2V5c0-1.1-.9-2-2-2zM9 17H7v-7h2v7zm4 0h-2V7h2v10zm4 0h-2v-4h2v4z\"/>\n",
              "    </g>\n",
              "</svg>\n",
              "      </button>\n",
              "\n",
              "<style>\n",
              "  .colab-df-quickchart {\n",
              "      --bg-color: #E8F0FE;\n",
              "      --fill-color: #1967D2;\n",
              "      --hover-bg-color: #E2EBFA;\n",
              "      --hover-fill-color: #174EA6;\n",
              "      --disabled-fill-color: #AAA;\n",
              "      --disabled-bg-color: #DDD;\n",
              "  }\n",
              "\n",
              "  [theme=dark] .colab-df-quickchart {\n",
              "      --bg-color: #3B4455;\n",
              "      --fill-color: #D2E3FC;\n",
              "      --hover-bg-color: #434B5C;\n",
              "      --hover-fill-color: #FFFFFF;\n",
              "      --disabled-bg-color: #3B4455;\n",
              "      --disabled-fill-color: #666;\n",
              "  }\n",
              "\n",
              "  .colab-df-quickchart {\n",
              "    background-color: var(--bg-color);\n",
              "    border: none;\n",
              "    border-radius: 50%;\n",
              "    cursor: pointer;\n",
              "    display: none;\n",
              "    fill: var(--fill-color);\n",
              "    height: 32px;\n",
              "    padding: 0;\n",
              "    width: 32px;\n",
              "  }\n",
              "\n",
              "  .colab-df-quickchart:hover {\n",
              "    background-color: var(--hover-bg-color);\n",
              "    box-shadow: 0 1px 2px rgba(60, 64, 67, 0.3), 0 1px 3px 1px rgba(60, 64, 67, 0.15);\n",
              "    fill: var(--button-hover-fill-color);\n",
              "  }\n",
              "\n",
              "  .colab-df-quickchart-complete:disabled,\n",
              "  .colab-df-quickchart-complete:disabled:hover {\n",
              "    background-color: var(--disabled-bg-color);\n",
              "    fill: var(--disabled-fill-color);\n",
              "    box-shadow: none;\n",
              "  }\n",
              "\n",
              "  .colab-df-spinner {\n",
              "    border: 2px solid var(--fill-color);\n",
              "    border-color: transparent;\n",
              "    border-bottom-color: var(--fill-color);\n",
              "    animation:\n",
              "      spin 1s steps(1) infinite;\n",
              "  }\n",
              "\n",
              "  @keyframes spin {\n",
              "    0% {\n",
              "      border-color: transparent;\n",
              "      border-bottom-color: var(--fill-color);\n",
              "      border-left-color: var(--fill-color);\n",
              "    }\n",
              "    20% {\n",
              "      border-color: transparent;\n",
              "      border-left-color: var(--fill-color);\n",
              "      border-top-color: var(--fill-color);\n",
              "    }\n",
              "    30% {\n",
              "      border-color: transparent;\n",
              "      border-left-color: var(--fill-color);\n",
              "      border-top-color: var(--fill-color);\n",
              "      border-right-color: var(--fill-color);\n",
              "    }\n",
              "    40% {\n",
              "      border-color: transparent;\n",
              "      border-right-color: var(--fill-color);\n",
              "      border-top-color: var(--fill-color);\n",
              "    }\n",
              "    60% {\n",
              "      border-color: transparent;\n",
              "      border-right-color: var(--fill-color);\n",
              "    }\n",
              "    80% {\n",
              "      border-color: transparent;\n",
              "      border-right-color: var(--fill-color);\n",
              "      border-bottom-color: var(--fill-color);\n",
              "    }\n",
              "    90% {\n",
              "      border-color: transparent;\n",
              "      border-bottom-color: var(--fill-color);\n",
              "    }\n",
              "  }\n",
              "</style>\n",
              "\n",
              "      <script>\n",
              "        async function quickchart(key) {\n",
              "          const quickchartButtonEl =\n",
              "            document.querySelector('#' + key + ' button');\n",
              "          quickchartButtonEl.disabled = true;  // To prevent multiple clicks.\n",
              "          quickchartButtonEl.classList.add('colab-df-spinner');\n",
              "          try {\n",
              "            const charts = await google.colab.kernel.invokeFunction(\n",
              "                'suggestCharts', [key], {});\n",
              "          } catch (error) {\n",
              "            console.error('Error during call to suggestCharts:', error);\n",
              "          }\n",
              "          quickchartButtonEl.classList.remove('colab-df-spinner');\n",
              "          quickchartButtonEl.classList.add('colab-df-quickchart-complete');\n",
              "        }\n",
              "        (() => {\n",
              "          let quickchartButtonEl =\n",
              "            document.querySelector('#df-69f3494d-c3e0-453b-9f81-88649e81ef79 button');\n",
              "          quickchartButtonEl.style.display =\n",
              "            google.colab.kernel.accessAllowed ? 'block' : 'none';\n",
              "        })();\n",
              "      </script>\n",
              "    </div>\n",
              "\n",
              "    </div>\n",
              "  </div>\n"
            ],
            "application/vnd.google.colaboratory.intrinsic+json": {
              "type": "dataframe",
              "summary": "{\n  \"name\": \"df_vendas\",\n  \"rows\": 8,\n  \"fields\": [\n    {\n      \"column\": \"valor_venda\",\n      \"properties\": {\n        \"dtype\": \"number\",\n        \"std\": 1603.9372402660042,\n        \"min\": 11.13,\n        \"max\": 4997.31,\n        \"num_unique_values\": 8,\n        \"samples\": [\n          2436.61369,\n          2418.67,\n          1000.0\n        ],\n        \"semantic_type\": \"\",\n        \"description\": \"\"\n      }\n    },\n    {\n      \"column\": \"quantidade\",\n      \"properties\": {\n        \"dtype\": \"number\",\n        \"std\": 351.9146536537514,\n        \"min\": 1.0,\n        \"max\": 1000.0,\n        \"num_unique_values\": 8,\n        \"samples\": [\n          5.024,\n          5.0,\n          1000.0\n        ],\n        \"semantic_type\": \"\",\n        \"description\": \"\"\n      }\n    },\n    {\n      \"column\": \"avaliacao\",\n      \"properties\": {\n        \"dtype\": \"number\",\n        \"std\": 352.5720693599462,\n        \"min\": 1.0,\n        \"max\": 1000.0,\n        \"num_unique_values\": 8,\n        \"samples\": [\n          3.065,\n          3.0,\n          1000.0\n        ],\n        \"semantic_type\": \"\",\n        \"description\": \"\"\n      }\n    }\n  ]\n}"
            }
          },
          "metadata": {},
          "execution_count": 9
        }
      ],
      "source": [
        "# Estatísticas descritivas com describe()\n",
        "print(\"Estatísticas descritivas:\")\n",
        "df_vendas.describe()"
      ]
    },
    {
      "cell_type": "code",
      "execution_count": 10,
      "id": "1672db09-c440-4619-9982-ba2adce64355",
      "metadata": {
        "id": "1672db09-c440-4619-9982-ba2adce64355",
        "outputId": "d7fd7382-eff2-42c1-cb48-e897f06c5810",
        "colab": {
          "base_uri": "https://localhost:8080/",
          "height": 384
        }
      },
      "outputs": [
        {
          "output_type": "stream",
          "name": "stdout",
          "text": [
            "Número de valores únicos em cada coluna:\n"
          ]
        },
        {
          "output_type": "execute_result",
          "data": {
            "text/plain": [
              "data            338\n",
              "categoria         5\n",
              "produto          25\n",
              "regiao            5\n",
              "estado           21\n",
              "canal_venda       4\n",
              "valor_venda    1000\n",
              "quantidade        9\n",
              "avaliacao         5\n",
              "dtype: int64"
            ],
            "text/html": [
              "<div>\n",
              "<style scoped>\n",
              "    .dataframe tbody tr th:only-of-type {\n",
              "        vertical-align: middle;\n",
              "    }\n",
              "\n",
              "    .dataframe tbody tr th {\n",
              "        vertical-align: top;\n",
              "    }\n",
              "\n",
              "    .dataframe thead th {\n",
              "        text-align: right;\n",
              "    }\n",
              "</style>\n",
              "<table border=\"1\" class=\"dataframe\">\n",
              "  <thead>\n",
              "    <tr style=\"text-align: right;\">\n",
              "      <th></th>\n",
              "      <th>0</th>\n",
              "    </tr>\n",
              "  </thead>\n",
              "  <tbody>\n",
              "    <tr>\n",
              "      <th>data</th>\n",
              "      <td>338</td>\n",
              "    </tr>\n",
              "    <tr>\n",
              "      <th>categoria</th>\n",
              "      <td>5</td>\n",
              "    </tr>\n",
              "    <tr>\n",
              "      <th>produto</th>\n",
              "      <td>25</td>\n",
              "    </tr>\n",
              "    <tr>\n",
              "      <th>regiao</th>\n",
              "      <td>5</td>\n",
              "    </tr>\n",
              "    <tr>\n",
              "      <th>estado</th>\n",
              "      <td>21</td>\n",
              "    </tr>\n",
              "    <tr>\n",
              "      <th>canal_venda</th>\n",
              "      <td>4</td>\n",
              "    </tr>\n",
              "    <tr>\n",
              "      <th>valor_venda</th>\n",
              "      <td>1000</td>\n",
              "    </tr>\n",
              "    <tr>\n",
              "      <th>quantidade</th>\n",
              "      <td>9</td>\n",
              "    </tr>\n",
              "    <tr>\n",
              "      <th>avaliacao</th>\n",
              "      <td>5</td>\n",
              "    </tr>\n",
              "  </tbody>\n",
              "</table>\n",
              "</div><br><label><b>dtype:</b> int64</label>"
            ]
          },
          "metadata": {},
          "execution_count": 10
        }
      ],
      "source": [
        "# Contagem de valores únicos com nunique()\n",
        "print(\"Número de valores únicos em cada coluna:\")\n",
        "df_vendas.nunique()"
      ]
    },
    {
      "cell_type": "markdown",
      "id": "078e72c1-61d3-4abe-b70c-768f7a02f405",
      "metadata": {
        "id": "078e72c1-61d3-4abe-b70c-768f7a02f405"
      },
      "source": [
        "### 1.5 Verificando Valores Únicos e Nulos"
      ]
    },
    {
      "cell_type": "code",
      "execution_count": 11,
      "id": "9121fa51-6b20-42f0-9b8b-93b2471bd048",
      "metadata": {
        "id": "9121fa51-6b20-42f0-9b8b-93b2471bd048",
        "outputId": "f26d518c-cf76-49c0-be9e-a1dcc881e1c9",
        "colab": {
          "base_uri": "https://localhost:8080/"
        }
      },
      "outputs": [
        {
          "output_type": "stream",
          "name": "stdout",
          "text": [
            "Categorias únicas:\n"
          ]
        },
        {
          "output_type": "execute_result",
          "data": {
            "text/plain": [
              "array([np.str_('Casa'), np.str_('Beleza'), np.str_('Roupas'),\n",
              "       np.str_('Alimentos'), np.str_('Eletrônicos')], dtype=object)"
            ]
          },
          "metadata": {},
          "execution_count": 11
        }
      ],
      "source": [
        "# Verificando valores únicos em uma coluna categórica\n",
        "print(\"Categorias únicas:\")\n",
        "df_vendas['categoria'].unique()"
      ]
    },
    {
      "cell_type": "code",
      "execution_count": 12,
      "id": "0612d4ac-f5fc-4321-a7fa-b79091f1ae8b",
      "metadata": {
        "id": "0612d4ac-f5fc-4321-a7fa-b79091f1ae8b",
        "outputId": "39ccdff1-6a93-4178-b5b8-d9f038adfc52",
        "colab": {
          "base_uri": "https://localhost:8080/",
          "height": 290
        }
      },
      "outputs": [
        {
          "output_type": "stream",
          "name": "stdout",
          "text": [
            "Contagem de cada categoria:\n"
          ]
        },
        {
          "output_type": "execute_result",
          "data": {
            "text/plain": [
              "categoria\n",
              "Alimentos      212\n",
              "Beleza         209\n",
              "Roupas         200\n",
              "Eletrônicos    191\n",
              "Casa           188\n",
              "Name: count, dtype: int64"
            ],
            "text/html": [
              "<div>\n",
              "<style scoped>\n",
              "    .dataframe tbody tr th:only-of-type {\n",
              "        vertical-align: middle;\n",
              "    }\n",
              "\n",
              "    .dataframe tbody tr th {\n",
              "        vertical-align: top;\n",
              "    }\n",
              "\n",
              "    .dataframe thead th {\n",
              "        text-align: right;\n",
              "    }\n",
              "</style>\n",
              "<table border=\"1\" class=\"dataframe\">\n",
              "  <thead>\n",
              "    <tr style=\"text-align: right;\">\n",
              "      <th></th>\n",
              "      <th>count</th>\n",
              "    </tr>\n",
              "    <tr>\n",
              "      <th>categoria</th>\n",
              "      <th></th>\n",
              "    </tr>\n",
              "  </thead>\n",
              "  <tbody>\n",
              "    <tr>\n",
              "      <th>Alimentos</th>\n",
              "      <td>212</td>\n",
              "    </tr>\n",
              "    <tr>\n",
              "      <th>Beleza</th>\n",
              "      <td>209</td>\n",
              "    </tr>\n",
              "    <tr>\n",
              "      <th>Roupas</th>\n",
              "      <td>200</td>\n",
              "    </tr>\n",
              "    <tr>\n",
              "      <th>Eletrônicos</th>\n",
              "      <td>191</td>\n",
              "    </tr>\n",
              "    <tr>\n",
              "      <th>Casa</th>\n",
              "      <td>188</td>\n",
              "    </tr>\n",
              "  </tbody>\n",
              "</table>\n",
              "</div><br><label><b>dtype:</b> int64</label>"
            ]
          },
          "metadata": {},
          "execution_count": 12
        }
      ],
      "source": [
        "# Contando ocorrências de cada valor\n",
        "print(\"Contagem de cada categoria:\")\n",
        "df_vendas['categoria'].value_counts()"
      ]
    },
    {
      "cell_type": "code",
      "execution_count": 13,
      "id": "36929d88-7a67-480a-afab-206ae6f7695d",
      "metadata": {
        "id": "36929d88-7a67-480a-afab-206ae6f7695d",
        "outputId": "24e09fc7-3bdc-46ff-ada0-3698ff53966d",
        "colab": {
          "base_uri": "https://localhost:8080/",
          "height": 384
        }
      },
      "outputs": [
        {
          "output_type": "stream",
          "name": "stdout",
          "text": [
            "Valores nulos em cada coluna:\n"
          ]
        },
        {
          "output_type": "execute_result",
          "data": {
            "text/plain": [
              "data           0\n",
              "categoria      0\n",
              "produto        0\n",
              "regiao         0\n",
              "estado         0\n",
              "canal_venda    0\n",
              "valor_venda    0\n",
              "quantidade     0\n",
              "avaliacao      0\n",
              "dtype: int64"
            ],
            "text/html": [
              "<div>\n",
              "<style scoped>\n",
              "    .dataframe tbody tr th:only-of-type {\n",
              "        vertical-align: middle;\n",
              "    }\n",
              "\n",
              "    .dataframe tbody tr th {\n",
              "        vertical-align: top;\n",
              "    }\n",
              "\n",
              "    .dataframe thead th {\n",
              "        text-align: right;\n",
              "    }\n",
              "</style>\n",
              "<table border=\"1\" class=\"dataframe\">\n",
              "  <thead>\n",
              "    <tr style=\"text-align: right;\">\n",
              "      <th></th>\n",
              "      <th>0</th>\n",
              "    </tr>\n",
              "  </thead>\n",
              "  <tbody>\n",
              "    <tr>\n",
              "      <th>data</th>\n",
              "      <td>0</td>\n",
              "    </tr>\n",
              "    <tr>\n",
              "      <th>categoria</th>\n",
              "      <td>0</td>\n",
              "    </tr>\n",
              "    <tr>\n",
              "      <th>produto</th>\n",
              "      <td>0</td>\n",
              "    </tr>\n",
              "    <tr>\n",
              "      <th>regiao</th>\n",
              "      <td>0</td>\n",
              "    </tr>\n",
              "    <tr>\n",
              "      <th>estado</th>\n",
              "      <td>0</td>\n",
              "    </tr>\n",
              "    <tr>\n",
              "      <th>canal_venda</th>\n",
              "      <td>0</td>\n",
              "    </tr>\n",
              "    <tr>\n",
              "      <th>valor_venda</th>\n",
              "      <td>0</td>\n",
              "    </tr>\n",
              "    <tr>\n",
              "      <th>quantidade</th>\n",
              "      <td>0</td>\n",
              "    </tr>\n",
              "    <tr>\n",
              "      <th>avaliacao</th>\n",
              "      <td>0</td>\n",
              "    </tr>\n",
              "  </tbody>\n",
              "</table>\n",
              "</div><br><label><b>dtype:</b> int64</label>"
            ]
          },
          "metadata": {},
          "execution_count": 13
        }
      ],
      "source": [
        "print(\"Valores nulos em cada coluna:\")\n",
        "df_vendas.isnull().sum()"
      ]
    },
    {
      "cell_type": "markdown",
      "id": "9285b71b-fc90-4f53-a6ab-e902ebffd607",
      "metadata": {
        "id": "9285b71b-fc90-4f53-a6ab-e902ebffd607"
      },
      "source": [
        "#### Exercício 1: Exploração Básica de Dados\n",
        "Agora é sua vez de aplicar o que aprendeu para explorar o DataFrame:"
      ]
    },
    {
      "cell_type": "markdown",
      "id": "bd96e512-c2ea-4be0-ac2d-f4f87cf1e722",
      "metadata": {
        "id": "bd96e512-c2ea-4be0-ac2d-f4f87cf1e722"
      },
      "source": [
        "##### 1.1 Use o método head() para mostrar as 10 primeiras linhas do DataFrame"
      ]
    },
    {
      "cell_type": "code",
      "execution_count": 15,
      "id": "7eb94998-51f3-46c0-8cab-58ffac14be2a",
      "metadata": {
        "id": "7eb94998-51f3-46c0-8cab-58ffac14be2a",
        "outputId": "58d43abf-241d-41e9-de1b-554163d2e8f4",
        "colab": {
          "base_uri": "https://localhost:8080/",
          "height": 363
        }
      },
      "outputs": [
        {
          "output_type": "execute_result",
          "data": {
            "text/plain": [
              "                  data  categoria        produto        regiao estado  \\\n",
              "0  2023-04-13 00:00:00       Casa        Armário  Centro-Oeste     MS   \n",
              "1  2023-03-29 00:00:00     Beleza        Perfume  Centro-Oeste     GO   \n",
              "2  2023-07-11 00:00:00       Casa        Armário         Norte     RR   \n",
              "3  2023-02-28 00:00:00     Roupas         Sapato       Sudeste     ES   \n",
              "4  2023-02-24 00:00:00       Casa           Sofá  Centro-Oeste     DF   \n",
              "5  2023-03-30 00:00:00       Casa           Mesa      Nordeste     BA   \n",
              "6  2023-09-21 00:00:00  Alimentos          Arroz       Sudeste     RJ   \n",
              "7  2023-09-17 00:00:00     Beleza  Condicionador      Nordeste     MA   \n",
              "8  2023-07-09 00:00:00     Beleza     Hidratante      Nordeste     PB   \n",
              "9  2023-01-15 00:00:00     Beleza        Shampoo         Norte     AM   \n",
              "\n",
              "   canal_venda  valor_venda  quantidade  avaliacao  \n",
              "0       Online      2988.28           3          3  \n",
              "1       Online      4849.85           6          2  \n",
              "2  Loja Física      2628.53           9          1  \n",
              "3   Aplicativo      2285.79           3          4  \n",
              "4   Aplicativo      3404.73           9          2  \n",
              "5  Loja Física       497.38           4          4  \n",
              "6     Telefone      3779.25           6          2  \n",
              "7  Loja Física      1981.80           4          4  \n",
              "8     Telefone      1790.20           9          5  \n",
              "9     Telefone      1980.46           8          3  "
            ],
            "text/html": [
              "\n",
              "  <div id=\"df-e1f52678-d09b-4aaa-bf0c-d34d5a2e33f7\" class=\"colab-df-container\">\n",
              "    <div>\n",
              "<style scoped>\n",
              "    .dataframe tbody tr th:only-of-type {\n",
              "        vertical-align: middle;\n",
              "    }\n",
              "\n",
              "    .dataframe tbody tr th {\n",
              "        vertical-align: top;\n",
              "    }\n",
              "\n",
              "    .dataframe thead th {\n",
              "        text-align: right;\n",
              "    }\n",
              "</style>\n",
              "<table border=\"1\" class=\"dataframe\">\n",
              "  <thead>\n",
              "    <tr style=\"text-align: right;\">\n",
              "      <th></th>\n",
              "      <th>data</th>\n",
              "      <th>categoria</th>\n",
              "      <th>produto</th>\n",
              "      <th>regiao</th>\n",
              "      <th>estado</th>\n",
              "      <th>canal_venda</th>\n",
              "      <th>valor_venda</th>\n",
              "      <th>quantidade</th>\n",
              "      <th>avaliacao</th>\n",
              "    </tr>\n",
              "  </thead>\n",
              "  <tbody>\n",
              "    <tr>\n",
              "      <th>0</th>\n",
              "      <td>2023-04-13 00:00:00</td>\n",
              "      <td>Casa</td>\n",
              "      <td>Armário</td>\n",
              "      <td>Centro-Oeste</td>\n",
              "      <td>MS</td>\n",
              "      <td>Online</td>\n",
              "      <td>2988.28</td>\n",
              "      <td>3</td>\n",
              "      <td>3</td>\n",
              "    </tr>\n",
              "    <tr>\n",
              "      <th>1</th>\n",
              "      <td>2023-03-29 00:00:00</td>\n",
              "      <td>Beleza</td>\n",
              "      <td>Perfume</td>\n",
              "      <td>Centro-Oeste</td>\n",
              "      <td>GO</td>\n",
              "      <td>Online</td>\n",
              "      <td>4849.85</td>\n",
              "      <td>6</td>\n",
              "      <td>2</td>\n",
              "    </tr>\n",
              "    <tr>\n",
              "      <th>2</th>\n",
              "      <td>2023-07-11 00:00:00</td>\n",
              "      <td>Casa</td>\n",
              "      <td>Armário</td>\n",
              "      <td>Norte</td>\n",
              "      <td>RR</td>\n",
              "      <td>Loja Física</td>\n",
              "      <td>2628.53</td>\n",
              "      <td>9</td>\n",
              "      <td>1</td>\n",
              "    </tr>\n",
              "    <tr>\n",
              "      <th>3</th>\n",
              "      <td>2023-02-28 00:00:00</td>\n",
              "      <td>Roupas</td>\n",
              "      <td>Sapato</td>\n",
              "      <td>Sudeste</td>\n",
              "      <td>ES</td>\n",
              "      <td>Aplicativo</td>\n",
              "      <td>2285.79</td>\n",
              "      <td>3</td>\n",
              "      <td>4</td>\n",
              "    </tr>\n",
              "    <tr>\n",
              "      <th>4</th>\n",
              "      <td>2023-02-24 00:00:00</td>\n",
              "      <td>Casa</td>\n",
              "      <td>Sofá</td>\n",
              "      <td>Centro-Oeste</td>\n",
              "      <td>DF</td>\n",
              "      <td>Aplicativo</td>\n",
              "      <td>3404.73</td>\n",
              "      <td>9</td>\n",
              "      <td>2</td>\n",
              "    </tr>\n",
              "    <tr>\n",
              "      <th>5</th>\n",
              "      <td>2023-03-30 00:00:00</td>\n",
              "      <td>Casa</td>\n",
              "      <td>Mesa</td>\n",
              "      <td>Nordeste</td>\n",
              "      <td>BA</td>\n",
              "      <td>Loja Física</td>\n",
              "      <td>497.38</td>\n",
              "      <td>4</td>\n",
              "      <td>4</td>\n",
              "    </tr>\n",
              "    <tr>\n",
              "      <th>6</th>\n",
              "      <td>2023-09-21 00:00:00</td>\n",
              "      <td>Alimentos</td>\n",
              "      <td>Arroz</td>\n",
              "      <td>Sudeste</td>\n",
              "      <td>RJ</td>\n",
              "      <td>Telefone</td>\n",
              "      <td>3779.25</td>\n",
              "      <td>6</td>\n",
              "      <td>2</td>\n",
              "    </tr>\n",
              "    <tr>\n",
              "      <th>7</th>\n",
              "      <td>2023-09-17 00:00:00</td>\n",
              "      <td>Beleza</td>\n",
              "      <td>Condicionador</td>\n",
              "      <td>Nordeste</td>\n",
              "      <td>MA</td>\n",
              "      <td>Loja Física</td>\n",
              "      <td>1981.80</td>\n",
              "      <td>4</td>\n",
              "      <td>4</td>\n",
              "    </tr>\n",
              "    <tr>\n",
              "      <th>8</th>\n",
              "      <td>2023-07-09 00:00:00</td>\n",
              "      <td>Beleza</td>\n",
              "      <td>Hidratante</td>\n",
              "      <td>Nordeste</td>\n",
              "      <td>PB</td>\n",
              "      <td>Telefone</td>\n",
              "      <td>1790.20</td>\n",
              "      <td>9</td>\n",
              "      <td>5</td>\n",
              "    </tr>\n",
              "    <tr>\n",
              "      <th>9</th>\n",
              "      <td>2023-01-15 00:00:00</td>\n",
              "      <td>Beleza</td>\n",
              "      <td>Shampoo</td>\n",
              "      <td>Norte</td>\n",
              "      <td>AM</td>\n",
              "      <td>Telefone</td>\n",
              "      <td>1980.46</td>\n",
              "      <td>8</td>\n",
              "      <td>3</td>\n",
              "    </tr>\n",
              "  </tbody>\n",
              "</table>\n",
              "</div>\n",
              "    <div class=\"colab-df-buttons\">\n",
              "\n",
              "  <div class=\"colab-df-container\">\n",
              "    <button class=\"colab-df-convert\" onclick=\"convertToInteractive('df-e1f52678-d09b-4aaa-bf0c-d34d5a2e33f7')\"\n",
              "            title=\"Convert this dataframe to an interactive table.\"\n",
              "            style=\"display:none;\">\n",
              "\n",
              "  <svg xmlns=\"http://www.w3.org/2000/svg\" height=\"24px\" viewBox=\"0 -960 960 960\">\n",
              "    <path d=\"M120-120v-720h720v720H120Zm60-500h600v-160H180v160Zm220 220h160v-160H400v160Zm0 220h160v-160H400v160ZM180-400h160v-160H180v160Zm440 0h160v-160H620v160ZM180-180h160v-160H180v160Zm440 0h160v-160H620v160Z\"/>\n",
              "  </svg>\n",
              "    </button>\n",
              "\n",
              "  <style>\n",
              "    .colab-df-container {\n",
              "      display:flex;\n",
              "      gap: 12px;\n",
              "    }\n",
              "\n",
              "    .colab-df-convert {\n",
              "      background-color: #E8F0FE;\n",
              "      border: none;\n",
              "      border-radius: 50%;\n",
              "      cursor: pointer;\n",
              "      display: none;\n",
              "      fill: #1967D2;\n",
              "      height: 32px;\n",
              "      padding: 0 0 0 0;\n",
              "      width: 32px;\n",
              "    }\n",
              "\n",
              "    .colab-df-convert:hover {\n",
              "      background-color: #E2EBFA;\n",
              "      box-shadow: 0px 1px 2px rgba(60, 64, 67, 0.3), 0px 1px 3px 1px rgba(60, 64, 67, 0.15);\n",
              "      fill: #174EA6;\n",
              "    }\n",
              "\n",
              "    .colab-df-buttons div {\n",
              "      margin-bottom: 4px;\n",
              "    }\n",
              "\n",
              "    [theme=dark] .colab-df-convert {\n",
              "      background-color: #3B4455;\n",
              "      fill: #D2E3FC;\n",
              "    }\n",
              "\n",
              "    [theme=dark] .colab-df-convert:hover {\n",
              "      background-color: #434B5C;\n",
              "      box-shadow: 0px 1px 3px 1px rgba(0, 0, 0, 0.15);\n",
              "      filter: drop-shadow(0px 1px 2px rgba(0, 0, 0, 0.3));\n",
              "      fill: #FFFFFF;\n",
              "    }\n",
              "  </style>\n",
              "\n",
              "    <script>\n",
              "      const buttonEl =\n",
              "        document.querySelector('#df-e1f52678-d09b-4aaa-bf0c-d34d5a2e33f7 button.colab-df-convert');\n",
              "      buttonEl.style.display =\n",
              "        google.colab.kernel.accessAllowed ? 'block' : 'none';\n",
              "\n",
              "      async function convertToInteractive(key) {\n",
              "        const element = document.querySelector('#df-e1f52678-d09b-4aaa-bf0c-d34d5a2e33f7');\n",
              "        const dataTable =\n",
              "          await google.colab.kernel.invokeFunction('convertToInteractive',\n",
              "                                                    [key], {});\n",
              "        if (!dataTable) return;\n",
              "\n",
              "        const docLinkHtml = 'Like what you see? Visit the ' +\n",
              "          '<a target=\"_blank\" href=https://colab.research.google.com/notebooks/data_table.ipynb>data table notebook</a>'\n",
              "          + ' to learn more about interactive tables.';\n",
              "        element.innerHTML = '';\n",
              "        dataTable['output_type'] = 'display_data';\n",
              "        await google.colab.output.renderOutput(dataTable, element);\n",
              "        const docLink = document.createElement('div');\n",
              "        docLink.innerHTML = docLinkHtml;\n",
              "        element.appendChild(docLink);\n",
              "      }\n",
              "    </script>\n",
              "  </div>\n",
              "\n",
              "\n",
              "    <div id=\"df-aacebfd9-5630-440b-9948-e88a442419e0\">\n",
              "      <button class=\"colab-df-quickchart\" onclick=\"quickchart('df-aacebfd9-5630-440b-9948-e88a442419e0')\"\n",
              "                title=\"Suggest charts\"\n",
              "                style=\"display:none;\">\n",
              "\n",
              "<svg xmlns=\"http://www.w3.org/2000/svg\" height=\"24px\"viewBox=\"0 0 24 24\"\n",
              "     width=\"24px\">\n",
              "    <g>\n",
              "        <path d=\"M19 3H5c-1.1 0-2 .9-2 2v14c0 1.1.9 2 2 2h14c1.1 0 2-.9 2-2V5c0-1.1-.9-2-2-2zM9 17H7v-7h2v7zm4 0h-2V7h2v10zm4 0h-2v-4h2v4z\"/>\n",
              "    </g>\n",
              "</svg>\n",
              "      </button>\n",
              "\n",
              "<style>\n",
              "  .colab-df-quickchart {\n",
              "      --bg-color: #E8F0FE;\n",
              "      --fill-color: #1967D2;\n",
              "      --hover-bg-color: #E2EBFA;\n",
              "      --hover-fill-color: #174EA6;\n",
              "      --disabled-fill-color: #AAA;\n",
              "      --disabled-bg-color: #DDD;\n",
              "  }\n",
              "\n",
              "  [theme=dark] .colab-df-quickchart {\n",
              "      --bg-color: #3B4455;\n",
              "      --fill-color: #D2E3FC;\n",
              "      --hover-bg-color: #434B5C;\n",
              "      --hover-fill-color: #FFFFFF;\n",
              "      --disabled-bg-color: #3B4455;\n",
              "      --disabled-fill-color: #666;\n",
              "  }\n",
              "\n",
              "  .colab-df-quickchart {\n",
              "    background-color: var(--bg-color);\n",
              "    border: none;\n",
              "    border-radius: 50%;\n",
              "    cursor: pointer;\n",
              "    display: none;\n",
              "    fill: var(--fill-color);\n",
              "    height: 32px;\n",
              "    padding: 0;\n",
              "    width: 32px;\n",
              "  }\n",
              "\n",
              "  .colab-df-quickchart:hover {\n",
              "    background-color: var(--hover-bg-color);\n",
              "    box-shadow: 0 1px 2px rgba(60, 64, 67, 0.3), 0 1px 3px 1px rgba(60, 64, 67, 0.15);\n",
              "    fill: var(--button-hover-fill-color);\n",
              "  }\n",
              "\n",
              "  .colab-df-quickchart-complete:disabled,\n",
              "  .colab-df-quickchart-complete:disabled:hover {\n",
              "    background-color: var(--disabled-bg-color);\n",
              "    fill: var(--disabled-fill-color);\n",
              "    box-shadow: none;\n",
              "  }\n",
              "\n",
              "  .colab-df-spinner {\n",
              "    border: 2px solid var(--fill-color);\n",
              "    border-color: transparent;\n",
              "    border-bottom-color: var(--fill-color);\n",
              "    animation:\n",
              "      spin 1s steps(1) infinite;\n",
              "  }\n",
              "\n",
              "  @keyframes spin {\n",
              "    0% {\n",
              "      border-color: transparent;\n",
              "      border-bottom-color: var(--fill-color);\n",
              "      border-left-color: var(--fill-color);\n",
              "    }\n",
              "    20% {\n",
              "      border-color: transparent;\n",
              "      border-left-color: var(--fill-color);\n",
              "      border-top-color: var(--fill-color);\n",
              "    }\n",
              "    30% {\n",
              "      border-color: transparent;\n",
              "      border-left-color: var(--fill-color);\n",
              "      border-top-color: var(--fill-color);\n",
              "      border-right-color: var(--fill-color);\n",
              "    }\n",
              "    40% {\n",
              "      border-color: transparent;\n",
              "      border-right-color: var(--fill-color);\n",
              "      border-top-color: var(--fill-color);\n",
              "    }\n",
              "    60% {\n",
              "      border-color: transparent;\n",
              "      border-right-color: var(--fill-color);\n",
              "    }\n",
              "    80% {\n",
              "      border-color: transparent;\n",
              "      border-right-color: var(--fill-color);\n",
              "      border-bottom-color: var(--fill-color);\n",
              "    }\n",
              "    90% {\n",
              "      border-color: transparent;\n",
              "      border-bottom-color: var(--fill-color);\n",
              "    }\n",
              "  }\n",
              "</style>\n",
              "\n",
              "      <script>\n",
              "        async function quickchart(key) {\n",
              "          const quickchartButtonEl =\n",
              "            document.querySelector('#' + key + ' button');\n",
              "          quickchartButtonEl.disabled = true;  // To prevent multiple clicks.\n",
              "          quickchartButtonEl.classList.add('colab-df-spinner');\n",
              "          try {\n",
              "            const charts = await google.colab.kernel.invokeFunction(\n",
              "                'suggestCharts', [key], {});\n",
              "          } catch (error) {\n",
              "            console.error('Error during call to suggestCharts:', error);\n",
              "          }\n",
              "          quickchartButtonEl.classList.remove('colab-df-spinner');\n",
              "          quickchartButtonEl.classList.add('colab-df-quickchart-complete');\n",
              "        }\n",
              "        (() => {\n",
              "          let quickchartButtonEl =\n",
              "            document.querySelector('#df-aacebfd9-5630-440b-9948-e88a442419e0 button');\n",
              "          quickchartButtonEl.style.display =\n",
              "            google.colab.kernel.accessAllowed ? 'block' : 'none';\n",
              "        })();\n",
              "      </script>\n",
              "    </div>\n",
              "\n",
              "    </div>\n",
              "  </div>\n"
            ],
            "application/vnd.google.colaboratory.intrinsic+json": {
              "type": "dataframe",
              "variable_name": "df_vendas",
              "summary": "{\n  \"name\": \"df_vendas\",\n  \"rows\": 1000,\n  \"fields\": [\n    {\n      \"column\": \"data\",\n      \"properties\": {\n        \"dtype\": \"date\",\n        \"min\": \"2023-01-01 00:00:00\",\n        \"max\": \"2023-12-31 00:00:00\",\n        \"num_unique_values\": 338,\n        \"samples\": [\n          \"2023-03-16 00:00:00\",\n          \"2023-08-07 00:00:00\",\n          \"2023-10-19 00:00:00\"\n        ],\n        \"semantic_type\": \"\",\n        \"description\": \"\"\n      }\n    },\n    {\n      \"column\": \"categoria\",\n      \"properties\": {\n        \"dtype\": \"category\",\n        \"num_unique_values\": 5,\n        \"samples\": [\n          \"Beleza\",\n          \"Eletr\\u00f4nicos\",\n          \"Roupas\"\n        ],\n        \"semantic_type\": \"\",\n        \"description\": \"\"\n      }\n    },\n    {\n      \"column\": \"produto\",\n      \"properties\": {\n        \"dtype\": \"category\",\n        \"num_unique_values\": 25,\n        \"samples\": [\n          \"Shampoo\",\n          \"Camiseta\",\n          \"Arm\\u00e1rio\"\n        ],\n        \"semantic_type\": \"\",\n        \"description\": \"\"\n      }\n    },\n    {\n      \"column\": \"regiao\",\n      \"properties\": {\n        \"dtype\": \"category\",\n        \"num_unique_values\": 5,\n        \"samples\": [\n          \"Norte\",\n          \"Sul\",\n          \"Sudeste\"\n        ],\n        \"semantic_type\": \"\",\n        \"description\": \"\"\n      }\n    },\n    {\n      \"column\": \"estado\",\n      \"properties\": {\n        \"dtype\": \"category\",\n        \"num_unique_values\": 21,\n        \"samples\": [\n          \"MS\",\n          \"SP\",\n          \"AC\"\n        ],\n        \"semantic_type\": \"\",\n        \"description\": \"\"\n      }\n    },\n    {\n      \"column\": \"canal_venda\",\n      \"properties\": {\n        \"dtype\": \"category\",\n        \"num_unique_values\": 4,\n        \"samples\": [\n          \"Loja F\\u00edsica\",\n          \"Telefone\",\n          \"Online\"\n        ],\n        \"semantic_type\": \"\",\n        \"description\": \"\"\n      }\n    },\n    {\n      \"column\": \"valor_venda\",\n      \"properties\": {\n        \"dtype\": \"number\",\n        \"std\": 1459.098609650825,\n        \"min\": 11.13,\n        \"max\": 4997.31,\n        \"num_unique_values\": 1000,\n        \"samples\": [\n          3293.83,\n          191.94,\n          4831.71\n        ],\n        \"semantic_type\": \"\",\n        \"description\": \"\"\n      }\n    },\n    {\n      \"column\": \"quantidade\",\n      \"properties\": {\n        \"dtype\": \"number\",\n        \"std\": 2,\n        \"min\": 1,\n        \"max\": 9,\n        \"num_unique_values\": 9,\n        \"samples\": [\n          2,\n          6,\n          7\n        ],\n        \"semantic_type\": \"\",\n        \"description\": \"\"\n      }\n    },\n    {\n      \"column\": \"avaliacao\",\n      \"properties\": {\n        \"dtype\": \"number\",\n        \"std\": 1,\n        \"min\": 1,\n        \"max\": 5,\n        \"num_unique_values\": 5,\n        \"samples\": [\n          2,\n          5,\n          1\n        ],\n        \"semantic_type\": \"\",\n        \"description\": \"\"\n      }\n    }\n  ]\n}"
            }
          },
          "metadata": {},
          "execution_count": 15
        }
      ],
      "source": [
        "df_vendas.head(10)"
      ]
    },
    {
      "cell_type": "markdown",
      "id": "7de1e69a-6782-4c0b-93af-f1b1a13ade76",
      "metadata": {
        "id": "7de1e69a-6782-4c0b-93af-f1b1a13ade76"
      },
      "source": [
        "##### 1.2 Use shape para verificar quantas linhas e colunas tem o DataFrame"
      ]
    },
    {
      "cell_type": "code",
      "execution_count": 17,
      "id": "c55f285e-d241-4cd8-8bb4-3ac3b8b61f8d",
      "metadata": {
        "id": "c55f285e-d241-4cd8-8bb4-3ac3b8b61f8d",
        "outputId": "16388d8d-f1e9-4146-b6e6-4e1b6a370139",
        "colab": {
          "base_uri": "https://localhost:8080/"
        }
      },
      "outputs": [
        {
          "output_type": "stream",
          "name": "stdout",
          "text": [
            "Esse DataFrame tem 1000 linhas e 9 colunas.\n"
          ]
        }
      ],
      "source": [
        "print(f'Esse DataFrame tem {df_vendas.shape[0]} linhas e {df_vendas.shape[1]} colunas.')"
      ]
    },
    {
      "cell_type": "markdown",
      "id": "1754157e-abee-4ee2-b1c6-407eb209bc92",
      "metadata": {
        "id": "1754157e-abee-4ee2-b1c6-407eb209bc92"
      },
      "source": [
        "##### 1.3 Use o método unique() para listar todas as regiões no DataFrame"
      ]
    },
    {
      "cell_type": "code",
      "execution_count": 20,
      "id": "1cd1bc77-75a1-4b01-94b4-08c6ce4753fb",
      "metadata": {
        "id": "1cd1bc77-75a1-4b01-94b4-08c6ce4753fb",
        "outputId": "50ed9a21-4525-40ba-b515-d72d12d76a3e",
        "colab": {
          "base_uri": "https://localhost:8080/"
        }
      },
      "outputs": [
        {
          "output_type": "execute_result",
          "data": {
            "text/plain": [
              "array([np.str_('Centro-Oeste'), np.str_('Norte'), np.str_('Sudeste'),\n",
              "       np.str_('Nordeste'), np.str_('Sul')], dtype=object)"
            ]
          },
          "metadata": {},
          "execution_count": 20
        }
      ],
      "source": [
        "df_vendas['regiao'].unique()"
      ]
    },
    {
      "cell_type": "markdown",
      "id": "5ee1f697-0a93-426b-a64d-68f0c9624ce2",
      "metadata": {
        "id": "5ee1f697-0a93-426b-a64d-68f0c9624ce2"
      },
      "source": [
        "##### 1.4 Use o método value_counts() para contar quantas vendas existem por canal_venda"
      ]
    },
    {
      "cell_type": "code",
      "execution_count": 22,
      "id": "ddf6f0b6-5dc3-488b-a60c-2ae55e9e705c",
      "metadata": {
        "id": "ddf6f0b6-5dc3-488b-a60c-2ae55e9e705c",
        "outputId": "94ad4cdc-2b89-4da6-acc5-6b75312fff9c",
        "colab": {
          "base_uri": "https://localhost:8080/",
          "height": 489
        }
      },
      "outputs": [
        {
          "output_type": "execute_result",
          "data": {
            "text/plain": [
              "data        categoria  produto  regiao        estado  canal_venda  valor_venda  quantidade  avaliacao\n",
              "2023-12-31  Alimentos  Óleo     Nordeste      CE      Telefone     2540.19      1           5            1\n",
              "2023-01-01  Alimentos  Café     Norte         AC      Online       1035.84      9           5            1\n",
              "                                Sul           PR      Loja Física  1749.38      2           2            1\n",
              "            Roupas     Vestido  Norte         AM      Loja Física  857.74       1           4            1\n",
              "2023-01-02  Alimentos  Arroz    Centro-Oeste  MT      Online       4087.36      4           4            1\n",
              "                                                                                                        ..\n",
              "2023-01-06  Roupas     Calça    Nordeste      BA      Online       4508.90      6           3            1\n",
              "            Casa       Mesa     Nordeste      CE      Telefone     2496.26      6           5            1\n",
              "                       Armário  Sul           SC      Online       1712.34      7           4            1\n",
              "2023-01-05  Roupas     Vestido  Norte         PA      Loja Física  2202.29      3           1            1\n",
              "            Alimentos  Feijão   Sudeste       SP      Online       665.13       2           2            1\n",
              "Name: count, Length: 1000, dtype: int64"
            ],
            "text/html": [
              "<div>\n",
              "<style scoped>\n",
              "    .dataframe tbody tr th:only-of-type {\n",
              "        vertical-align: middle;\n",
              "    }\n",
              "\n",
              "    .dataframe tbody tr th {\n",
              "        vertical-align: top;\n",
              "    }\n",
              "\n",
              "    .dataframe thead th {\n",
              "        text-align: right;\n",
              "    }\n",
              "</style>\n",
              "<table border=\"1\" class=\"dataframe\">\n",
              "  <thead>\n",
              "    <tr style=\"text-align: right;\">\n",
              "      <th></th>\n",
              "      <th></th>\n",
              "      <th></th>\n",
              "      <th></th>\n",
              "      <th></th>\n",
              "      <th></th>\n",
              "      <th></th>\n",
              "      <th></th>\n",
              "      <th></th>\n",
              "      <th>count</th>\n",
              "    </tr>\n",
              "    <tr>\n",
              "      <th>data</th>\n",
              "      <th>categoria</th>\n",
              "      <th>produto</th>\n",
              "      <th>regiao</th>\n",
              "      <th>estado</th>\n",
              "      <th>canal_venda</th>\n",
              "      <th>valor_venda</th>\n",
              "      <th>quantidade</th>\n",
              "      <th>avaliacao</th>\n",
              "      <th></th>\n",
              "    </tr>\n",
              "  </thead>\n",
              "  <tbody>\n",
              "    <tr>\n",
              "      <th>2023-12-31</th>\n",
              "      <th>Alimentos</th>\n",
              "      <th>Óleo</th>\n",
              "      <th>Nordeste</th>\n",
              "      <th>CE</th>\n",
              "      <th>Telefone</th>\n",
              "      <th>2540.19</th>\n",
              "      <th>1</th>\n",
              "      <th>5</th>\n",
              "      <td>1</td>\n",
              "    </tr>\n",
              "    <tr>\n",
              "      <th rowspan=\"3\" valign=\"top\">2023-01-01</th>\n",
              "      <th rowspan=\"2\" valign=\"top\">Alimentos</th>\n",
              "      <th rowspan=\"2\" valign=\"top\">Café</th>\n",
              "      <th>Norte</th>\n",
              "      <th>AC</th>\n",
              "      <th>Online</th>\n",
              "      <th>1035.84</th>\n",
              "      <th>9</th>\n",
              "      <th>5</th>\n",
              "      <td>1</td>\n",
              "    </tr>\n",
              "    <tr>\n",
              "      <th>Sul</th>\n",
              "      <th>PR</th>\n",
              "      <th>Loja Física</th>\n",
              "      <th>1749.38</th>\n",
              "      <th>2</th>\n",
              "      <th>2</th>\n",
              "      <td>1</td>\n",
              "    </tr>\n",
              "    <tr>\n",
              "      <th>Roupas</th>\n",
              "      <th>Vestido</th>\n",
              "      <th>Norte</th>\n",
              "      <th>AM</th>\n",
              "      <th>Loja Física</th>\n",
              "      <th>857.74</th>\n",
              "      <th>1</th>\n",
              "      <th>4</th>\n",
              "      <td>1</td>\n",
              "    </tr>\n",
              "    <tr>\n",
              "      <th>2023-01-02</th>\n",
              "      <th>Alimentos</th>\n",
              "      <th>Arroz</th>\n",
              "      <th>Centro-Oeste</th>\n",
              "      <th>MT</th>\n",
              "      <th>Online</th>\n",
              "      <th>4087.36</th>\n",
              "      <th>4</th>\n",
              "      <th>4</th>\n",
              "      <td>1</td>\n",
              "    </tr>\n",
              "    <tr>\n",
              "      <th>...</th>\n",
              "      <th>...</th>\n",
              "      <th>...</th>\n",
              "      <th>...</th>\n",
              "      <th>...</th>\n",
              "      <th>...</th>\n",
              "      <th>...</th>\n",
              "      <th>...</th>\n",
              "      <th>...</th>\n",
              "      <td>...</td>\n",
              "    </tr>\n",
              "    <tr>\n",
              "      <th rowspan=\"3\" valign=\"top\">2023-01-06</th>\n",
              "      <th>Roupas</th>\n",
              "      <th>Calça</th>\n",
              "      <th>Nordeste</th>\n",
              "      <th>BA</th>\n",
              "      <th>Online</th>\n",
              "      <th>4508.90</th>\n",
              "      <th>6</th>\n",
              "      <th>3</th>\n",
              "      <td>1</td>\n",
              "    </tr>\n",
              "    <tr>\n",
              "      <th rowspan=\"2\" valign=\"top\">Casa</th>\n",
              "      <th>Mesa</th>\n",
              "      <th>Nordeste</th>\n",
              "      <th>CE</th>\n",
              "      <th>Telefone</th>\n",
              "      <th>2496.26</th>\n",
              "      <th>6</th>\n",
              "      <th>5</th>\n",
              "      <td>1</td>\n",
              "    </tr>\n",
              "    <tr>\n",
              "      <th>Armário</th>\n",
              "      <th>Sul</th>\n",
              "      <th>SC</th>\n",
              "      <th>Online</th>\n",
              "      <th>1712.34</th>\n",
              "      <th>7</th>\n",
              "      <th>4</th>\n",
              "      <td>1</td>\n",
              "    </tr>\n",
              "    <tr>\n",
              "      <th rowspan=\"2\" valign=\"top\">2023-01-05</th>\n",
              "      <th>Roupas</th>\n",
              "      <th>Vestido</th>\n",
              "      <th>Norte</th>\n",
              "      <th>PA</th>\n",
              "      <th>Loja Física</th>\n",
              "      <th>2202.29</th>\n",
              "      <th>3</th>\n",
              "      <th>1</th>\n",
              "      <td>1</td>\n",
              "    </tr>\n",
              "    <tr>\n",
              "      <th>Alimentos</th>\n",
              "      <th>Feijão</th>\n",
              "      <th>Sudeste</th>\n",
              "      <th>SP</th>\n",
              "      <th>Online</th>\n",
              "      <th>665.13</th>\n",
              "      <th>2</th>\n",
              "      <th>2</th>\n",
              "      <td>1</td>\n",
              "    </tr>\n",
              "  </tbody>\n",
              "</table>\n",
              "<p>1000 rows × 1 columns</p>\n",
              "</div><br><label><b>dtype:</b> int64</label>"
            ]
          },
          "metadata": {},
          "execution_count": 22
        }
      ],
      "source": [
        "df_vendas.value_counts()"
      ]
    },
    {
      "cell_type": "markdown",
      "id": "e9c7a025-eb5c-4b13-9ede-499bed43630e",
      "metadata": {
        "id": "e9c7a025-eb5c-4b13-9ede-499bed43630e"
      },
      "source": [
        "##### 1.5 Use o método describe() para obter estatísticas da coluna 'valor_venda'"
      ]
    },
    {
      "cell_type": "code",
      "execution_count": 23,
      "id": "de1e0c33-8499-40e8-946e-3209c3251513",
      "metadata": {
        "id": "de1e0c33-8499-40e8-946e-3209c3251513",
        "outputId": "6687ca86-21f0-44b5-da5b-937d21f86f0d",
        "colab": {
          "base_uri": "https://localhost:8080/",
          "height": 300
        }
      },
      "outputs": [
        {
          "output_type": "execute_result",
          "data": {
            "text/plain": [
              "       valor_venda  quantidade    avaliacao\n",
              "count   1000.00000  1000.00000  1000.000000\n",
              "mean    2436.61369     5.02400     3.065000\n",
              "std     1459.09861     2.60196     1.413072\n",
              "min       11.13000     1.00000     1.000000\n",
              "25%     1168.71000     3.00000     2.000000\n",
              "50%     2418.67000     5.00000     3.000000\n",
              "75%     3702.18000     7.00000     4.000000\n",
              "max     4997.31000     9.00000     5.000000"
            ],
            "text/html": [
              "\n",
              "  <div id=\"df-4bd3ddf8-7664-475f-8a7b-c29b4a4aa8ba\" class=\"colab-df-container\">\n",
              "    <div>\n",
              "<style scoped>\n",
              "    .dataframe tbody tr th:only-of-type {\n",
              "        vertical-align: middle;\n",
              "    }\n",
              "\n",
              "    .dataframe tbody tr th {\n",
              "        vertical-align: top;\n",
              "    }\n",
              "\n",
              "    .dataframe thead th {\n",
              "        text-align: right;\n",
              "    }\n",
              "</style>\n",
              "<table border=\"1\" class=\"dataframe\">\n",
              "  <thead>\n",
              "    <tr style=\"text-align: right;\">\n",
              "      <th></th>\n",
              "      <th>valor_venda</th>\n",
              "      <th>quantidade</th>\n",
              "      <th>avaliacao</th>\n",
              "    </tr>\n",
              "  </thead>\n",
              "  <tbody>\n",
              "    <tr>\n",
              "      <th>count</th>\n",
              "      <td>1000.00000</td>\n",
              "      <td>1000.00000</td>\n",
              "      <td>1000.000000</td>\n",
              "    </tr>\n",
              "    <tr>\n",
              "      <th>mean</th>\n",
              "      <td>2436.61369</td>\n",
              "      <td>5.02400</td>\n",
              "      <td>3.065000</td>\n",
              "    </tr>\n",
              "    <tr>\n",
              "      <th>std</th>\n",
              "      <td>1459.09861</td>\n",
              "      <td>2.60196</td>\n",
              "      <td>1.413072</td>\n",
              "    </tr>\n",
              "    <tr>\n",
              "      <th>min</th>\n",
              "      <td>11.13000</td>\n",
              "      <td>1.00000</td>\n",
              "      <td>1.000000</td>\n",
              "    </tr>\n",
              "    <tr>\n",
              "      <th>25%</th>\n",
              "      <td>1168.71000</td>\n",
              "      <td>3.00000</td>\n",
              "      <td>2.000000</td>\n",
              "    </tr>\n",
              "    <tr>\n",
              "      <th>50%</th>\n",
              "      <td>2418.67000</td>\n",
              "      <td>5.00000</td>\n",
              "      <td>3.000000</td>\n",
              "    </tr>\n",
              "    <tr>\n",
              "      <th>75%</th>\n",
              "      <td>3702.18000</td>\n",
              "      <td>7.00000</td>\n",
              "      <td>4.000000</td>\n",
              "    </tr>\n",
              "    <tr>\n",
              "      <th>max</th>\n",
              "      <td>4997.31000</td>\n",
              "      <td>9.00000</td>\n",
              "      <td>5.000000</td>\n",
              "    </tr>\n",
              "  </tbody>\n",
              "</table>\n",
              "</div>\n",
              "    <div class=\"colab-df-buttons\">\n",
              "\n",
              "  <div class=\"colab-df-container\">\n",
              "    <button class=\"colab-df-convert\" onclick=\"convertToInteractive('df-4bd3ddf8-7664-475f-8a7b-c29b4a4aa8ba')\"\n",
              "            title=\"Convert this dataframe to an interactive table.\"\n",
              "            style=\"display:none;\">\n",
              "\n",
              "  <svg xmlns=\"http://www.w3.org/2000/svg\" height=\"24px\" viewBox=\"0 -960 960 960\">\n",
              "    <path d=\"M120-120v-720h720v720H120Zm60-500h600v-160H180v160Zm220 220h160v-160H400v160Zm0 220h160v-160H400v160ZM180-400h160v-160H180v160Zm440 0h160v-160H620v160ZM180-180h160v-160H180v160Zm440 0h160v-160H620v160Z\"/>\n",
              "  </svg>\n",
              "    </button>\n",
              "\n",
              "  <style>\n",
              "    .colab-df-container {\n",
              "      display:flex;\n",
              "      gap: 12px;\n",
              "    }\n",
              "\n",
              "    .colab-df-convert {\n",
              "      background-color: #E8F0FE;\n",
              "      border: none;\n",
              "      border-radius: 50%;\n",
              "      cursor: pointer;\n",
              "      display: none;\n",
              "      fill: #1967D2;\n",
              "      height: 32px;\n",
              "      padding: 0 0 0 0;\n",
              "      width: 32px;\n",
              "    }\n",
              "\n",
              "    .colab-df-convert:hover {\n",
              "      background-color: #E2EBFA;\n",
              "      box-shadow: 0px 1px 2px rgba(60, 64, 67, 0.3), 0px 1px 3px 1px rgba(60, 64, 67, 0.15);\n",
              "      fill: #174EA6;\n",
              "    }\n",
              "\n",
              "    .colab-df-buttons div {\n",
              "      margin-bottom: 4px;\n",
              "    }\n",
              "\n",
              "    [theme=dark] .colab-df-convert {\n",
              "      background-color: #3B4455;\n",
              "      fill: #D2E3FC;\n",
              "    }\n",
              "\n",
              "    [theme=dark] .colab-df-convert:hover {\n",
              "      background-color: #434B5C;\n",
              "      box-shadow: 0px 1px 3px 1px rgba(0, 0, 0, 0.15);\n",
              "      filter: drop-shadow(0px 1px 2px rgba(0, 0, 0, 0.3));\n",
              "      fill: #FFFFFF;\n",
              "    }\n",
              "  </style>\n",
              "\n",
              "    <script>\n",
              "      const buttonEl =\n",
              "        document.querySelector('#df-4bd3ddf8-7664-475f-8a7b-c29b4a4aa8ba button.colab-df-convert');\n",
              "      buttonEl.style.display =\n",
              "        google.colab.kernel.accessAllowed ? 'block' : 'none';\n",
              "\n",
              "      async function convertToInteractive(key) {\n",
              "        const element = document.querySelector('#df-4bd3ddf8-7664-475f-8a7b-c29b4a4aa8ba');\n",
              "        const dataTable =\n",
              "          await google.colab.kernel.invokeFunction('convertToInteractive',\n",
              "                                                    [key], {});\n",
              "        if (!dataTable) return;\n",
              "\n",
              "        const docLinkHtml = 'Like what you see? Visit the ' +\n",
              "          '<a target=\"_blank\" href=https://colab.research.google.com/notebooks/data_table.ipynb>data table notebook</a>'\n",
              "          + ' to learn more about interactive tables.';\n",
              "        element.innerHTML = '';\n",
              "        dataTable['output_type'] = 'display_data';\n",
              "        await google.colab.output.renderOutput(dataTable, element);\n",
              "        const docLink = document.createElement('div');\n",
              "        docLink.innerHTML = docLinkHtml;\n",
              "        element.appendChild(docLink);\n",
              "      }\n",
              "    </script>\n",
              "  </div>\n",
              "\n",
              "\n",
              "    <div id=\"df-fb428d74-c995-46d8-a07b-5186a6c585cc\">\n",
              "      <button class=\"colab-df-quickchart\" onclick=\"quickchart('df-fb428d74-c995-46d8-a07b-5186a6c585cc')\"\n",
              "                title=\"Suggest charts\"\n",
              "                style=\"display:none;\">\n",
              "\n",
              "<svg xmlns=\"http://www.w3.org/2000/svg\" height=\"24px\"viewBox=\"0 0 24 24\"\n",
              "     width=\"24px\">\n",
              "    <g>\n",
              "        <path d=\"M19 3H5c-1.1 0-2 .9-2 2v14c0 1.1.9 2 2 2h14c1.1 0 2-.9 2-2V5c0-1.1-.9-2-2-2zM9 17H7v-7h2v7zm4 0h-2V7h2v10zm4 0h-2v-4h2v4z\"/>\n",
              "    </g>\n",
              "</svg>\n",
              "      </button>\n",
              "\n",
              "<style>\n",
              "  .colab-df-quickchart {\n",
              "      --bg-color: #E8F0FE;\n",
              "      --fill-color: #1967D2;\n",
              "      --hover-bg-color: #E2EBFA;\n",
              "      --hover-fill-color: #174EA6;\n",
              "      --disabled-fill-color: #AAA;\n",
              "      --disabled-bg-color: #DDD;\n",
              "  }\n",
              "\n",
              "  [theme=dark] .colab-df-quickchart {\n",
              "      --bg-color: #3B4455;\n",
              "      --fill-color: #D2E3FC;\n",
              "      --hover-bg-color: #434B5C;\n",
              "      --hover-fill-color: #FFFFFF;\n",
              "      --disabled-bg-color: #3B4455;\n",
              "      --disabled-fill-color: #666;\n",
              "  }\n",
              "\n",
              "  .colab-df-quickchart {\n",
              "    background-color: var(--bg-color);\n",
              "    border: none;\n",
              "    border-radius: 50%;\n",
              "    cursor: pointer;\n",
              "    display: none;\n",
              "    fill: var(--fill-color);\n",
              "    height: 32px;\n",
              "    padding: 0;\n",
              "    width: 32px;\n",
              "  }\n",
              "\n",
              "  .colab-df-quickchart:hover {\n",
              "    background-color: var(--hover-bg-color);\n",
              "    box-shadow: 0 1px 2px rgba(60, 64, 67, 0.3), 0 1px 3px 1px rgba(60, 64, 67, 0.15);\n",
              "    fill: var(--button-hover-fill-color);\n",
              "  }\n",
              "\n",
              "  .colab-df-quickchart-complete:disabled,\n",
              "  .colab-df-quickchart-complete:disabled:hover {\n",
              "    background-color: var(--disabled-bg-color);\n",
              "    fill: var(--disabled-fill-color);\n",
              "    box-shadow: none;\n",
              "  }\n",
              "\n",
              "  .colab-df-spinner {\n",
              "    border: 2px solid var(--fill-color);\n",
              "    border-color: transparent;\n",
              "    border-bottom-color: var(--fill-color);\n",
              "    animation:\n",
              "      spin 1s steps(1) infinite;\n",
              "  }\n",
              "\n",
              "  @keyframes spin {\n",
              "    0% {\n",
              "      border-color: transparent;\n",
              "      border-bottom-color: var(--fill-color);\n",
              "      border-left-color: var(--fill-color);\n",
              "    }\n",
              "    20% {\n",
              "      border-color: transparent;\n",
              "      border-left-color: var(--fill-color);\n",
              "      border-top-color: var(--fill-color);\n",
              "    }\n",
              "    30% {\n",
              "      border-color: transparent;\n",
              "      border-left-color: var(--fill-color);\n",
              "      border-top-color: var(--fill-color);\n",
              "      border-right-color: var(--fill-color);\n",
              "    }\n",
              "    40% {\n",
              "      border-color: transparent;\n",
              "      border-right-color: var(--fill-color);\n",
              "      border-top-color: var(--fill-color);\n",
              "    }\n",
              "    60% {\n",
              "      border-color: transparent;\n",
              "      border-right-color: var(--fill-color);\n",
              "    }\n",
              "    80% {\n",
              "      border-color: transparent;\n",
              "      border-right-color: var(--fill-color);\n",
              "      border-bottom-color: var(--fill-color);\n",
              "    }\n",
              "    90% {\n",
              "      border-color: transparent;\n",
              "      border-bottom-color: var(--fill-color);\n",
              "    }\n",
              "  }\n",
              "</style>\n",
              "\n",
              "      <script>\n",
              "        async function quickchart(key) {\n",
              "          const quickchartButtonEl =\n",
              "            document.querySelector('#' + key + ' button');\n",
              "          quickchartButtonEl.disabled = true;  // To prevent multiple clicks.\n",
              "          quickchartButtonEl.classList.add('colab-df-spinner');\n",
              "          try {\n",
              "            const charts = await google.colab.kernel.invokeFunction(\n",
              "                'suggestCharts', [key], {});\n",
              "          } catch (error) {\n",
              "            console.error('Error during call to suggestCharts:', error);\n",
              "          }\n",
              "          quickchartButtonEl.classList.remove('colab-df-spinner');\n",
              "          quickchartButtonEl.classList.add('colab-df-quickchart-complete');\n",
              "        }\n",
              "        (() => {\n",
              "          let quickchartButtonEl =\n",
              "            document.querySelector('#df-fb428d74-c995-46d8-a07b-5186a6c585cc button');\n",
              "          quickchartButtonEl.style.display =\n",
              "            google.colab.kernel.accessAllowed ? 'block' : 'none';\n",
              "        })();\n",
              "      </script>\n",
              "    </div>\n",
              "\n",
              "    </div>\n",
              "  </div>\n"
            ],
            "application/vnd.google.colaboratory.intrinsic+json": {
              "type": "dataframe",
              "summary": "{\n  \"name\": \"df_vendas\",\n  \"rows\": 8,\n  \"fields\": [\n    {\n      \"column\": \"valor_venda\",\n      \"properties\": {\n        \"dtype\": \"number\",\n        \"std\": 1603.9372402660042,\n        \"min\": 11.13,\n        \"max\": 4997.31,\n        \"num_unique_values\": 8,\n        \"samples\": [\n          2436.61369,\n          2418.67,\n          1000.0\n        ],\n        \"semantic_type\": \"\",\n        \"description\": \"\"\n      }\n    },\n    {\n      \"column\": \"quantidade\",\n      \"properties\": {\n        \"dtype\": \"number\",\n        \"std\": 351.9146536537514,\n        \"min\": 1.0,\n        \"max\": 1000.0,\n        \"num_unique_values\": 8,\n        \"samples\": [\n          5.024,\n          5.0,\n          1000.0\n        ],\n        \"semantic_type\": \"\",\n        \"description\": \"\"\n      }\n    },\n    {\n      \"column\": \"avaliacao\",\n      \"properties\": {\n        \"dtype\": \"number\",\n        \"std\": 352.5720693599462,\n        \"min\": 1.0,\n        \"max\": 1000.0,\n        \"num_unique_values\": 8,\n        \"samples\": [\n          3.065,\n          3.0,\n          1000.0\n        ],\n        \"semantic_type\": \"\",\n        \"description\": \"\"\n      }\n    }\n  ]\n}"
            }
          },
          "metadata": {},
          "execution_count": 23
        }
      ],
      "source": [
        "df_vendas.describe()"
      ]
    },
    {
      "cell_type": "markdown",
      "id": "d596b6aa-a19d-4f64-ace2-b93464a40c25",
      "metadata": {
        "id": "d596b6aa-a19d-4f64-ace2-b93464a40c25"
      },
      "source": [
        "---"
      ]
    },
    {
      "cell_type": "markdown",
      "id": "494ec1e1-f350-405e-9f10-c0192f560746",
      "metadata": {
        "id": "494ec1e1-f350-405e-9f10-c0192f560746"
      },
      "source": [
        "## 2. Seleção e Filtragem de Dados\n",
        "\n",
        "### 2.1 Selecionando Colunas\n",
        "\n",
        "O Pandas oferece várias maneiras de selecionar colunas em um DataFrame:"
      ]
    },
    {
      "cell_type": "code",
      "execution_count": null,
      "id": "dead5a75-1d6f-48d4-9400-e3e6ca374216",
      "metadata": {
        "id": "dead5a75-1d6f-48d4-9400-e3e6ca374216"
      },
      "outputs": [],
      "source": [
        "# Selecionando uma única coluna (retorna uma Series)\n",
        "valores_venda = df_vendas['valor_venda']\n",
        "print(\"Primeiros 5 valores da coluna 'valor_venda':\")\n",
        "valores_venda.head()"
      ]
    },
    {
      "cell_type": "code",
      "execution_count": null,
      "id": "be226245-60ec-4547-8fc6-fe0e81228903",
      "metadata": {
        "id": "be226245-60ec-4547-8fc6-fe0e81228903"
      },
      "outputs": [],
      "source": [
        "print(f\"Tipo de dados: {type(valores_venda)}\")"
      ]
    },
    {
      "cell_type": "code",
      "execution_count": null,
      "id": "c6dd0bde-dc15-458f-8c5c-fc8af20b8755",
      "metadata": {
        "id": "c6dd0bde-dc15-458f-8c5c-fc8af20b8755"
      },
      "outputs": [],
      "source": [
        "# Selecionando múltiplas colunas (retorna um DataFrame)\n",
        "selecao = df_vendas[['produto', 'valor_venda', 'quantidade']]\n",
        "\n",
        "print(\"Primeiras 5 linhas das colunas selecionadas:\")\n",
        "selecao.head()"
      ]
    },
    {
      "cell_type": "code",
      "execution_count": null,
      "id": "7b8473b8-bda5-42c1-b0b7-1eac4653d9e0",
      "metadata": {
        "id": "7b8473b8-bda5-42c1-b0b7-1eac4653d9e0"
      },
      "outputs": [],
      "source": [
        "print(f\"Tipo de dados: {type(selecao)}\")"
      ]
    },
    {
      "cell_type": "markdown",
      "id": "311d65ad-411c-4bf8-b4dd-7fb882d09728",
      "metadata": {
        "id": "311d65ad-411c-4bf8-b4dd-7fb882d09728"
      },
      "source": [
        "### 2.2 Filtrando Linhas com Condições\n",
        "\n",
        "Podemos filtrar linhas do DataFrame usando condições lógicas:"
      ]
    },
    {
      "cell_type": "code",
      "execution_count": null,
      "id": "cce589f6-c3c8-49b8-be6e-31d962d74b6a",
      "metadata": {
        "id": "cce589f6-c3c8-49b8-be6e-31d962d74b6a"
      },
      "outputs": [],
      "source": [
        "# Filtragem básica: vendas com valor acima de 1000\n",
        "vendas_altas = df_vendas[df_vendas['valor_venda'] > 1000]\n",
        "print(f\"Número de vendas com valor acima de R$1000: {len(vendas_altas)}\")\n",
        "\n",
        "print(\"Primeiras 5 vendas com valor acima de R$1000:\")\n",
        "vendas_altas.head()"
      ]
    },
    {
      "cell_type": "code",
      "execution_count": null,
      "id": "8ddbe0fb-4378-44c3-a3f5-fa8daea2f0c1",
      "metadata": {
        "id": "8ddbe0fb-4378-44c3-a3f5-fa8daea2f0c1"
      },
      "outputs": [],
      "source": [
        "# Filtrando com múltiplas condições usando operadores lógicos & (AND) e | (OR)\n",
        "\n",
        "# Vendas de Eletrônicos na região Sul\n",
        "vendas_eletronicos_sul = df_vendas[(df_vendas['categoria'] == 'Eletrônicos') &\n",
        "                                   (df_vendas['regiao'] == 'Sul')]\n",
        "print(f\"Número de vendas de Eletrônicos na região Sul: {len(vendas_eletronicos_sul)}\")\n",
        "\n",
        "print(\"Primeiras 5 vendas de Eletrônicos na região Sul:\")\n",
        "vendas_eletronicos_sul.head()"
      ]
    },
    {
      "cell_type": "code",
      "execution_count": null,
      "id": "d641c266-be6c-4fed-9afd-0ac5b22407a4",
      "metadata": {
        "id": "d641c266-be6c-4fed-9afd-0ac5b22407a4"
      },
      "outputs": [],
      "source": [
        "# Filtrando com OR lógico\n",
        "\n",
        "# Vendas muito altas (>3000) ou com avaliação máxima (5)\n",
        "vendas_premium = df_vendas[(df_vendas['valor_venda'] > 3000) |\n",
        "                          (df_vendas['avaliacao'] == 5)]\n",
        "\n",
        "print(f\"Número de vendas premium: {len(vendas_premium)}\")\n",
        "\n",
        "print(\"Primeiras 5 vendas premium:\")\n",
        "vendas_premium.head()"
      ]
    },
    {
      "cell_type": "markdown",
      "id": "b8f13735-38d4-4c73-8232-de0d542c3235",
      "metadata": {
        "id": "b8f13735-38d4-4c73-8232-de0d542c3235"
      },
      "source": [
        "### 2.3 Filtragem com isin() e between()\n",
        "\n",
        "Pandas oferece métodos especiais para filtragens mais específicas:"
      ]
    },
    {
      "cell_type": "code",
      "execution_count": null,
      "id": "93865da9-3c70-4cfb-8a5b-2ccb9db742db",
      "metadata": {
        "id": "93865da9-3c70-4cfb-8a5b-2ccb9db742db"
      },
      "outputs": [],
      "source": [
        "# Usando isin() para filtrar com uma lista de valores\n",
        "\n",
        "# Vendas nas regiões Sul e Sudeste\n",
        "regioes_sul_sudeste = ['Sul', 'Sudeste']\n",
        "vendas_sul_sudeste = df_vendas[df_vendas['regiao'].isin(regioes_sul_sudeste)]\n",
        "\n",
        "print(f\"Número de vendas nas regiões Sul e Sudeste: {len(vendas_sul_sudeste)}\")\n",
        "\n",
        "print(\"Primeiras 5 vendas nas regiões Sul e Sudeste:\")\n",
        "vendas_sul_sudeste.head()"
      ]
    },
    {
      "cell_type": "code",
      "execution_count": null,
      "id": "77fe577e-0a3d-4c05-bc7c-23652452a24a",
      "metadata": {
        "id": "77fe577e-0a3d-4c05-bc7c-23652452a24a"
      },
      "outputs": [],
      "source": [
        "# Usando between() para filtrar valores em um intervalo\n",
        "\n",
        "# Vendas com valor entre 1000 e 2000\n",
        "vendas_1000_2000 = df_vendas[df_vendas['valor_venda'].between(1000, 2000)]\n",
        "\n",
        "print(f\"Número de vendas entre R$1000 e R$2000: {len(vendas_1000_2000)}\")\n",
        "\n",
        "print(\"Primeiras 5 vendas entre R$1000 e R$2000:\")\n",
        "vendas_1000_2000.head()"
      ]
    },
    {
      "cell_type": "markdown",
      "id": "892239e3-ce34-454c-b883-9b9de92430eb",
      "metadata": {
        "id": "892239e3-ce34-454c-b883-9b9de92430eb"
      },
      "source": [
        "#### Exercício 2: Seleção e Filtragem de Dados\n",
        "Agora, pratique a seleção e filtragem de dados com os seguintes exercícios:"
      ]
    },
    {
      "cell_type": "markdown",
      "id": "e3188264-cfdd-44f7-8d68-47c1a4e45026",
      "metadata": {
        "id": "e3188264-cfdd-44f7-8d68-47c1a4e45026"
      },
      "source": [
        "##### 2.1 Selecione apenas as colunas 'data', 'produto' e 'valor_venda' do DataFrame"
      ]
    },
    {
      "cell_type": "code",
      "execution_count": null,
      "id": "b1b8911b-11fc-441c-9ca4-992e3544652c",
      "metadata": {
        "id": "b1b8911b-11fc-441c-9ca4-992e3544652c"
      },
      "outputs": [],
      "source": [
        "# SEU CÓDIGO AQUI"
      ]
    },
    {
      "cell_type": "markdown",
      "id": "5143f5af-6f5d-44cf-8582-99e31e75620f",
      "metadata": {
        "id": "5143f5af-6f5d-44cf-8582-99e31e75620f"
      },
      "source": [
        "##### 2.2 Filtre o DataFrame para mostrar apenas as vendas do canal 'Online'"
      ]
    },
    {
      "cell_type": "code",
      "execution_count": null,
      "id": "adcc0cfe-8adf-4001-a520-c89e93f999fe",
      "metadata": {
        "id": "adcc0cfe-8adf-4001-a520-c89e93f999fe"
      },
      "outputs": [],
      "source": [
        "# SEU CÓDIGO AQUI"
      ]
    },
    {
      "cell_type": "markdown",
      "id": "fc7bbc2e-55af-470b-a827-ab3630807818",
      "metadata": {
        "id": "fc7bbc2e-55af-470b-a827-ab3630807818"
      },
      "source": [
        "##### 2.3 Filtre o DataFrame para mostrar vendas de 'Roupas' com valor acima de 500"
      ]
    },
    {
      "cell_type": "code",
      "execution_count": null,
      "id": "9136f68a-0b68-4c25-9359-26504fc3ee3d",
      "metadata": {
        "id": "9136f68a-0b68-4c25-9359-26504fc3ee3d"
      },
      "outputs": [],
      "source": [
        "# SEU CÓDIGO AQUI"
      ]
    },
    {
      "cell_type": "markdown",
      "id": "103a25ca-19ae-4bb7-831c-19984c3eb6f0",
      "metadata": {
        "id": "103a25ca-19ae-4bb7-831c-19984c3eb6f0"
      },
      "source": [
        "##### 2.4 Use o método isin() para filtrar vendas dos produtos 'Smartphone' e 'Laptop'"
      ]
    },
    {
      "cell_type": "code",
      "execution_count": null,
      "id": "7d01e9b9-ae9a-4907-9c3f-f42b49d97a33",
      "metadata": {
        "id": "7d01e9b9-ae9a-4907-9c3f-f42b49d97a33"
      },
      "outputs": [],
      "source": [
        "# SEU CÓDIGO AQUI"
      ]
    },
    {
      "cell_type": "markdown",
      "id": "7a7eddde-e487-44ef-b471-d0e2b17e963b",
      "metadata": {
        "id": "7a7eddde-e487-44ef-b471-d0e2b17e963b"
      },
      "source": [
        "##### 2.5 Use o método between() para encontrar vendas com quantidades entre 3 e 5 unidades"
      ]
    },
    {
      "cell_type": "code",
      "execution_count": null,
      "id": "d9f9a6c5-1b42-45c0-82f2-490814e18a7f",
      "metadata": {
        "id": "d9f9a6c5-1b42-45c0-82f2-490814e18a7f"
      },
      "outputs": [],
      "source": [
        "# SEU CÓDIGO AQUI"
      ]
    },
    {
      "cell_type": "markdown",
      "id": "899dfc6e-13e1-4c66-9d74-e60096f3a1bb",
      "metadata": {
        "id": "899dfc6e-13e1-4c66-9d74-e60096f3a1bb"
      },
      "source": [
        "## 3. Ordenação e Indexação\n",
        "\n",
        "### 3.1 Ordenando Dados\n",
        "\n",
        "O método `sort_values()` permite ordenar o DataFrame por uma ou mais colunas:"
      ]
    },
    {
      "cell_type": "code",
      "execution_count": null,
      "id": "9eb379ce-5e2e-4c83-9c82-dbbeac637f12",
      "metadata": {
        "id": "9eb379ce-5e2e-4c83-9c82-dbbeac637f12"
      },
      "outputs": [],
      "source": [
        "# Ordenando por uma coluna em ordem crescente (padrão)\n",
        "df_ordenado_crescente = df_vendas.sort_values('valor_venda')\n",
        "\n",
        "print(\"5 vendas com os menores valores:\")\n",
        "df_ordenado_crescente.head()"
      ]
    },
    {
      "cell_type": "code",
      "execution_count": null,
      "id": "209ce2a6-49f1-4483-bfea-27a180f6e066",
      "metadata": {
        "id": "209ce2a6-49f1-4483-bfea-27a180f6e066"
      },
      "outputs": [],
      "source": [
        "# Ordenando por uma coluna em ordem decrescente\n",
        "df_ordenado_decrescente = df_vendas.sort_values('valor_venda', ascending=False)\n",
        "\n",
        "print(\"5 vendas com os maiores valores:\")\n",
        "df_ordenado_decrescente.head()"
      ]
    },
    {
      "cell_type": "code",
      "execution_count": null,
      "id": "745f707f-a548-428d-9c74-35c2b92e1d8e",
      "metadata": {
        "id": "745f707f-a548-428d-9c74-35c2b92e1d8e"
      },
      "outputs": [],
      "source": [
        "# Ordenando por múltiplas colunas\n",
        "\n",
        "# Primeiro por categoria (A-Z) e depois por valor_venda (maior para menor)\n",
        "df_ordenado_multi = df_vendas.sort_values(['categoria', 'valor_venda'],\n",
        "                                         ascending=[True, False])\n",
        "\n",
        "print(\"Ordenação por categoria e depois por valor (decrescente):\")\n",
        "df_ordenado_multi.head(10)"
      ]
    },
    {
      "cell_type": "markdown",
      "id": "29a83671-6ceb-4ec0-8779-ebbc21a0be35",
      "metadata": {
        "id": "29a83671-6ceb-4ec0-8779-ebbc21a0be35"
      },
      "source": [
        "### 3.2 Redefinindo e Usando Índices"
      ]
    },
    {
      "cell_type": "code",
      "execution_count": null,
      "id": "2a05e6c3-648f-480e-b95b-93f1e452e576",
      "metadata": {
        "id": "2a05e6c3-648f-480e-b95b-93f1e452e576"
      },
      "outputs": [],
      "source": [
        "# Definindo uma coluna como índice\n",
        "df_indexado = df_vendas.set_index('data')\n",
        "\n",
        "print(\"DataFrame com 'data' como índice:\")\n",
        "df_indexado.head()"
      ]
    },
    {
      "cell_type": "code",
      "execution_count": null,
      "id": "f6f34ddc-46d7-48fd-abb8-c7ba4b747b82",
      "metadata": {
        "id": "f6f34ddc-46d7-48fd-abb8-c7ba4b747b82"
      },
      "outputs": [],
      "source": [
        "# Resetando o índice para voltar ao formato original\n",
        "df_reset = df_indexado.reset_index()\n",
        "\n",
        "print(\"DataFrame após reset do índice:\")\n",
        "df_reset.head()"
      ]
    },
    {
      "cell_type": "code",
      "execution_count": null,
      "id": "1f7ab412-30d4-4584-8dec-f9ad1850ab93",
      "metadata": {
        "id": "1f7ab412-30d4-4584-8dec-f9ad1850ab93"
      },
      "outputs": [],
      "source": [
        "# Acessando dados através do índice\n",
        "# (Importante: assumindo que 'data' ainda é o índice)\n",
        "print(\"Vendas em uma data específica:\")\n",
        "try:\n",
        "    data_exemplo = df_indexado.index[0]  # Pegando a primeira data como exemplo\n",
        "    print(f\"Vendas em {data_exemplo}:\")\n",
        "    display(df_indexado.loc[data_exemplo])\n",
        "except:\n",
        "    print(\"Certifique-se de que o DataFrame está indexado por 'data'\")"
      ]
    },
    {
      "cell_type": "markdown",
      "id": "71b8b374-0892-4972-becf-d8a590cbe720",
      "metadata": {
        "id": "71b8b374-0892-4972-becf-d8a590cbe720"
      },
      "source": [
        "#### Exercício 3: Ordenação e Indexação\n",
        "Agora, pratique a ordenação e indexação com os seguintes exercícios:"
      ]
    },
    {
      "cell_type": "markdown",
      "id": "d028c95f-3d26-4faa-a662-41bbf060688c",
      "metadata": {
        "id": "d028c95f-3d26-4faa-a662-41bbf060688c"
      },
      "source": [
        "##### 3.1 Ordene o DataFrame por 'avaliacao' em ordem decrescente e mostre as 10 primeiras linhas"
      ]
    },
    {
      "cell_type": "code",
      "execution_count": null,
      "id": "bc6f6d0e-f8ec-4534-88a9-c655c8b1d970",
      "metadata": {
        "id": "bc6f6d0e-f8ec-4534-88a9-c655c8b1d970"
      },
      "outputs": [],
      "source": [
        "# SEU CÓDIGO AQUI"
      ]
    },
    {
      "cell_type": "markdown",
      "id": "589ebe89-c22b-4960-8653-d756740a01a9",
      "metadata": {
        "id": "589ebe89-c22b-4960-8653-d756740a01a9"
      },
      "source": [
        "##### 3.2 Ordene o DataFrame primeiro por 'regiao' (A-Z) e depois por 'valor_venda' (maior para menor)"
      ]
    },
    {
      "cell_type": "code",
      "execution_count": null,
      "id": "37ae0b5f-f2d7-4690-bb53-64ffd6171a1a",
      "metadata": {
        "id": "37ae0b5f-f2d7-4690-bb53-64ffd6171a1a"
      },
      "outputs": [],
      "source": [
        "# SEU CÓDIGO AQUI"
      ]
    },
    {
      "cell_type": "markdown",
      "id": "7ba4a3f8-9eec-41a5-8a90-d492f3e2e9de",
      "metadata": {
        "id": "7ba4a3f8-9eec-41a5-8a90-d492f3e2e9de"
      },
      "source": [
        "##### 3.3 Defina a coluna 'produto' como índice do DataFrame e mostre as 5 primeiras linhas"
      ]
    },
    {
      "cell_type": "code",
      "execution_count": null,
      "id": "b794edaa-1370-46e1-b29e-1527b5181ba4",
      "metadata": {
        "id": "b794edaa-1370-46e1-b29e-1527b5181ba4"
      },
      "outputs": [],
      "source": [
        "# SEU CÓDIGO AQUI"
      ]
    },
    {
      "cell_type": "markdown",
      "id": "73b00c56-e6e6-406c-99c3-fabf84f76293",
      "metadata": {
        "id": "73b00c56-e6e6-406c-99c3-fabf84f76293"
      },
      "source": [
        "##### 3.4 Com o DataFrame indexado por 'produto' na questão anterior, acesse os dados do produto 'Smartphone' (se existir)\n",
        "\n",
        "Dica: use o .loc"
      ]
    },
    {
      "cell_type": "code",
      "execution_count": null,
      "id": "fcf3a450-c0a5-47ff-80de-08ef526e3ac6",
      "metadata": {
        "id": "fcf3a450-c0a5-47ff-80de-08ef526e3ac6"
      },
      "outputs": [],
      "source": [
        "# SEU CÓDIGO AQUI"
      ]
    },
    {
      "cell_type": "markdown",
      "id": "3b0400cb-9a2f-42da-b21c-ad843b4b777a",
      "metadata": {
        "id": "3b0400cb-9a2f-42da-b21c-ad843b4b777a"
      },
      "source": [
        "##### 3.5 Resete o índice para retornar à forma original e mostre as 5 primeiras linhas"
      ]
    },
    {
      "cell_type": "code",
      "execution_count": null,
      "id": "866dc8e7-66d2-4b6c-96e8-bd6b275775a3",
      "metadata": {
        "id": "866dc8e7-66d2-4b6c-96e8-bd6b275775a3"
      },
      "outputs": [],
      "source": [
        "# SEU CÓDIGO AQUI"
      ]
    },
    {
      "cell_type": "markdown",
      "id": "f76795bb-f6b2-4134-866d-cac17c32d2ea",
      "metadata": {
        "id": "f76795bb-f6b2-4134-866d-cac17c32d2ea"
      },
      "source": [
        "---"
      ]
    },
    {
      "cell_type": "markdown",
      "id": "cf4889b0-9196-4622-b85f-c0af473cb83d",
      "metadata": {
        "id": "cf4889b0-9196-4622-b85f-c0af473cb83d"
      },
      "source": [
        "## 4. Métodos Estatísticos e Agregações Básicas\n",
        "\n",
        "O Pandas oferece diversos métodos para calcular estatísticas e resumir informações.\n",
        "\n",
        "### 4.1 Estatísticas Básicas"
      ]
    },
    {
      "cell_type": "code",
      "execution_count": null,
      "id": "25d67f15-650d-4d59-b9ad-f3532fd63f1d",
      "metadata": {
        "id": "25d67f15-650d-4d59-b9ad-f3532fd63f1d"
      },
      "outputs": [],
      "source": [
        "# Calculando a média (mean) de uma coluna\n",
        "media_valor = df_vendas['valor_venda'].mean()\n",
        "print(f\"Valor médio de venda: R${media_valor:.2f}\")"
      ]
    },
    {
      "cell_type": "code",
      "execution_count": null,
      "id": "6ac1b8e1-71bb-44d2-bfe3-d94e22503042",
      "metadata": {
        "id": "6ac1b8e1-71bb-44d2-bfe3-d94e22503042"
      },
      "outputs": [],
      "source": [
        "# Calculando a soma (sum) de uma coluna\n",
        "total_vendas = df_vendas['valor_venda'].sum()\n",
        "print(f\"Valor total de vendas: R${total_vendas:.2f}\")"
      ]
    },
    {
      "cell_type": "code",
      "execution_count": null,
      "id": "76b0a1db-bd42-4a05-97ff-fa4dca8a1300",
      "metadata": {
        "id": "76b0a1db-bd42-4a05-97ff-fa4dca8a1300"
      },
      "outputs": [],
      "source": [
        "# Calculando o mínimo (min) e máximo (max)\n",
        "min_valor = df_vendas['valor_venda'].min()\n",
        "max_valor = df_vendas['valor_venda'].max()\n",
        "\n",
        "print(f\"Menor valor de venda: R${min_valor:.2f}\")\n",
        "print(f\"Maior valor de venda: R${max_valor:.2f}\")"
      ]
    },
    {
      "cell_type": "code",
      "execution_count": null,
      "id": "6954771c-d2f4-4a66-ac9c-5458afb0ef40",
      "metadata": {
        "id": "6954771c-d2f4-4a66-ac9c-5458afb0ef40"
      },
      "outputs": [],
      "source": [
        "# Calculando a mediana (median / 50º percentil)\n",
        "mediana_valor = df_vendas['valor_venda'].median()\n",
        "print(f\"Valor mediano de venda: R${mediana_valor:.2f}\")"
      ]
    },
    {
      "cell_type": "code",
      "execution_count": null,
      "id": "acbbea16-2c60-46ca-8f75-f4c574cdfdb7",
      "metadata": {
        "id": "acbbea16-2c60-46ca-8f75-f4c574cdfdb7"
      },
      "outputs": [],
      "source": [
        "# Calculando outros percentis\n",
        "percentil_25 = df_vendas['valor_venda'].quantile(0.25)\n",
        "percentil_75 = df_vendas['valor_venda'].quantile(0.75)\n",
        "\n",
        "print(f\"25º percentil do valor de venda: R${percentil_25:.2f}\")\n",
        "print(f\"75º percentil do valor de venda: R${percentil_75:.2f}\")"
      ]
    },
    {
      "cell_type": "code",
      "execution_count": null,
      "id": "dd1c59ff-75b7-47d0-b556-45cc3f25b676",
      "metadata": {
        "id": "dd1c59ff-75b7-47d0-b556-45cc3f25b676"
      },
      "outputs": [],
      "source": [
        "# Calculando o desvio padrão (std) e variância (var)\n",
        "desvio_padrao = df_vendas['valor_venda'].std()\n",
        "variancia = df_vendas['valor_venda'].var()\n",
        "\n",
        "print(f\"Desvio padrão do valor de venda: R${desvio_padrao:.2f}\")\n",
        "print(f\"Variância do valor de venda: R${variancia:.2f}\")"
      ]
    },
    {
      "cell_type": "markdown",
      "id": "00886d8e-a1c0-4138-b83c-255c421393b4",
      "metadata": {
        "id": "00886d8e-a1c0-4138-b83c-255c421393b4"
      },
      "source": [
        "### 4.2 Agregações por Categoria"
      ]
    },
    {
      "cell_type": "code",
      "execution_count": null,
      "id": "f0e6c6a9-8da0-4094-a2dd-950037962002",
      "metadata": {
        "id": "f0e6c6a9-8da0-4094-a2dd-950037962002"
      },
      "outputs": [],
      "source": [
        "# Calculando a média por categoria\n",
        "media_por_categoria = df_vendas.groupby('categoria')['valor_venda'].mean()\n",
        "\n",
        "print(\"Valor médio de venda por categoria:\")\n",
        "media_por_categoria"
      ]
    },
    {
      "cell_type": "code",
      "execution_count": null,
      "id": "ede967c3-e018-4189-9b5c-dd20e0688d9c",
      "metadata": {
        "id": "ede967c3-e018-4189-9b5c-dd20e0688d9c"
      },
      "outputs": [],
      "source": [
        "# Calculando múltiplas estatísticas por categoria\n",
        "stats_por_categoria = df_vendas.groupby('categoria')['valor_venda'].agg(['count', 'mean', 'min', 'max'])\n",
        "\n",
        "print(\"Estatísticas por categoria:\")\n",
        "stats_por_categoria"
      ]
    },
    {
      "cell_type": "code",
      "execution_count": null,
      "id": "115b1213-1c19-415b-a8e6-26fa695ab470",
      "metadata": {
        "id": "115b1213-1c19-415b-a8e6-26fa695ab470"
      },
      "outputs": [],
      "source": [
        "# Renomeando as colunas para melhor legibilidade\n",
        "stats_por_categoria.columns = ['Contagem', 'Média', 'Mínimo', 'Máximo']\n",
        "\n",
        "print(\"Estatísticas por categoria (colunas renomeadas):\")\n",
        "stats_por_categoria"
      ]
    },
    {
      "cell_type": "markdown",
      "id": "54c0a473-0391-4023-9822-b0e2d625431c",
      "metadata": {
        "id": "54c0a473-0391-4023-9822-b0e2d625431c"
      },
      "source": [
        "#### Exercício 4: Estatísticas e Agregações\n",
        "Agora, pratique o cálculo de estatísticas com os seguintes exercícios:"
      ]
    },
    {
      "cell_type": "markdown",
      "id": "5078e4fe-f99f-4e06-b656-00f8e5c7124a",
      "metadata": {
        "id": "5078e4fe-f99f-4e06-b656-00f8e5c7124a"
      },
      "source": [
        "##### 4.1 Calcule a média da coluna 'quantidade'"
      ]
    },
    {
      "cell_type": "code",
      "execution_count": null,
      "id": "cc689efd-1698-4c59-9a64-7a5917afaf99",
      "metadata": {
        "id": "cc689efd-1698-4c59-9a64-7a5917afaf99"
      },
      "outputs": [],
      "source": [
        "# SEU CÓDIGO AQUI"
      ]
    },
    {
      "cell_type": "markdown",
      "id": "503018ba-7d65-4f09-bba4-41a488d6032c",
      "metadata": {
        "id": "503018ba-7d65-4f09-bba4-41a488d6032c"
      },
      "source": [
        "##### 4.2 Calcule a soma total da coluna 'valor_venda' para ter o faturamento total"
      ]
    },
    {
      "cell_type": "code",
      "execution_count": null,
      "id": "c627160c-65ed-4b00-ae04-475b11599a9e",
      "metadata": {
        "id": "c627160c-65ed-4b00-ae04-475b11599a9e"
      },
      "outputs": [],
      "source": [
        "# SEU CÓDIGO AQUI"
      ]
    },
    {
      "cell_type": "markdown",
      "id": "c2223df7-0194-4b78-9488-e5d5426d6633",
      "metadata": {
        "id": "c2223df7-0194-4b78-9488-e5d5426d6633"
      },
      "source": [
        "##### 4.3 Encontre o valor máximo de 'avaliacao' de cada categoria de produto"
      ]
    },
    {
      "cell_type": "code",
      "execution_count": null,
      "id": "e63c555f-87bd-4dce-adf5-f0f76ffc005d",
      "metadata": {
        "id": "e63c555f-87bd-4dce-adf5-f0f76ffc005d"
      },
      "outputs": [],
      "source": [
        "# SEU CÓDIGO AQUI"
      ]
    },
    {
      "cell_type": "markdown",
      "id": "d11401cb-ec84-46d0-a5d6-e885aca9d614",
      "metadata": {
        "id": "d11401cb-ec84-46d0-a5d6-e885aca9d614"
      },
      "source": [
        "##### 4.4 Calcule o valor médio de venda por região e ordene do maior para o menor"
      ]
    },
    {
      "cell_type": "code",
      "execution_count": null,
      "id": "6ee127c8-ac52-4fd5-8823-a1c74242fcfc",
      "metadata": {
        "id": "6ee127c8-ac52-4fd5-8823-a1c74242fcfc"
      },
      "outputs": [],
      "source": [
        "# SEU CÓDIGO AQUI"
      ]
    },
    {
      "cell_type": "markdown",
      "id": "a0a0b9a1-93ee-47f2-9e07-68c99cbe7c42",
      "metadata": {
        "id": "a0a0b9a1-93ee-47f2-9e07-68c99cbe7c42"
      },
      "source": [
        "##### 4.5 Calcule a contagem, média, mínimo e máximo de 'valor_venda' para cada canal_venda"
      ]
    },
    {
      "cell_type": "code",
      "execution_count": null,
      "id": "f9d9351a-021d-4529-8567-45806ff32355",
      "metadata": {
        "id": "f9d9351a-021d-4529-8567-45806ff32355"
      },
      "outputs": [],
      "source": [
        "# SEU CÓDIGO AQUI"
      ]
    },
    {
      "cell_type": "markdown",
      "id": "35cdf4d1-89b8-44c2-9972-764bc5815503",
      "metadata": {
        "id": "35cdf4d1-89b8-44c2-9972-764bc5815503"
      },
      "source": [
        "---"
      ]
    },
    {
      "cell_type": "markdown",
      "id": "66c707c9-4747-4faf-af55-bd1190e7a7de",
      "metadata": {
        "id": "66c707c9-4747-4faf-af55-bd1190e7a7de"
      },
      "source": [
        "## 5. Agrupamento de Dados (GroupBy)\n",
        "\n",
        "### 5.1 O Conceito de GroupBy\n",
        "\n",
        "O método `groupby()` é uma das ferramentas mais poderosas do Pandas. Ele permite dividir os dados em grupos com base em uma ou mais colunas e aplicar funções para calcular estatísticas para cada grupo.\n",
        "\n",
        "O processo de GroupBy geralmente segue três etapas:\n",
        "1. **Split**: Dividir os dados em grupos\n",
        "2. **Apply**: Aplicar uma função a cada grupo\n",
        "3. **Combine**: Combinar os resultados em uma estrutura de dados"
      ]
    },
    {
      "cell_type": "code",
      "execution_count": null,
      "id": "45d3ffcf-45cb-4a90-ab7d-2d21fd093fb8",
      "metadata": {
        "id": "45d3ffcf-45cb-4a90-ab7d-2d21fd093fb8"
      },
      "outputs": [],
      "source": [
        "# Exemplo básico: agrupando por categoria e calculando a média de valor_venda\n",
        "media_por_categoria = df_vendas.groupby('categoria')['valor_venda'].mean()\n",
        "print(\"Valor médio de venda por categoria:\")\n",
        "media_por_categoria"
      ]
    },
    {
      "cell_type": "code",
      "execution_count": null,
      "id": "4da8fce5-ba88-4acc-819b-777cc78088df",
      "metadata": {
        "id": "4da8fce5-ba88-4acc-819b-777cc78088df"
      },
      "outputs": [],
      "source": [
        "# Visualizando o tipo de dados retornado\n",
        "print(f\"Tipo de dados: {type(media_por_categoria)}\")"
      ]
    },
    {
      "cell_type": "markdown",
      "id": "120b3a7e-23c8-4fcb-9c84-80488d32b4de",
      "metadata": {
        "id": "120b3a7e-23c8-4fcb-9c84-80488d32b4de"
      },
      "source": [
        "### 5.2 Agregações com GroupBy\n",
        "\n",
        "Podemos aplicar diferentes funções de agregação aos grupos:"
      ]
    },
    {
      "cell_type": "code",
      "execution_count": null,
      "id": "8b27a2d1-28ed-4cc1-8e2b-27c73a715446",
      "metadata": {
        "id": "8b27a2d1-28ed-4cc1-8e2b-27c73a715446"
      },
      "outputs": [],
      "source": [
        "# Contagem de vendas por região\n",
        "contagem_por_regiao = df_vendas.groupby('regiao')['valor_venda'].count()\n",
        "\n",
        "print(\"Número de vendas por região:\")\n",
        "contagem_por_regiao"
      ]
    },
    {
      "cell_type": "code",
      "execution_count": null,
      "id": "a5dfb104-a543-48b1-9e77-131296d46bbd",
      "metadata": {
        "id": "a5dfb104-a543-48b1-9e77-131296d46bbd"
      },
      "outputs": [],
      "source": [
        "# Soma do valor de vendas por região\n",
        "soma_por_regiao = df_vendas.groupby('regiao')['valor_venda'].sum()\n",
        "\n",
        "print(\"Valor total de vendas por região:\")\n",
        "soma_por_regiao"
      ]
    },
    {
      "cell_type": "code",
      "execution_count": null,
      "id": "fe6009c9-d428-416f-bf54-14f82b20023e",
      "metadata": {
        "id": "fe6009c9-d428-416f-bf54-14f82b20023e"
      },
      "outputs": [],
      "source": [
        "# Calculando múltiplas estatísticas simultaneamente\n",
        "stats_por_regiao = df_vendas.groupby('regiao')['valor_venda'].agg(['count', 'sum', 'mean', 'min', 'max'])\n",
        "\n",
        "print(\"Estatísticas completas por região:\")\n",
        "stats_por_regiao"
      ]
    },
    {
      "cell_type": "markdown",
      "id": "65fd6fbd-d67d-4053-a5c6-66bf28d3b027",
      "metadata": {
        "id": "65fd6fbd-d67d-4053-a5c6-66bf28d3b027"
      },
      "source": [
        "### 5.3 GroupBy com Múltiplas Colunas\n",
        "\n",
        "Podemos agrupar por mais de uma coluna para análises mais detalhadas:"
      ]
    },
    {
      "cell_type": "code",
      "execution_count": null,
      "id": "98230e1a-1f27-4a58-a304-1fce940011ef",
      "metadata": {
        "id": "98230e1a-1f27-4a58-a304-1fce940011ef"
      },
      "outputs": [],
      "source": [
        "# Agrupando por região e categoria\n",
        "vendas_regiao_categoria = df_vendas.groupby(['regiao', 'categoria'])['valor_venda'].sum()\n",
        "\n",
        "print(\"Total de vendas por região e categoria:\")\n",
        "vendas_regiao_categoria"
      ]
    },
    {
      "cell_type": "code",
      "execution_count": null,
      "id": "cd2c8966-3a53-4cfa-b6cb-1f95b7e938d2",
      "metadata": {
        "id": "cd2c8966-3a53-4cfa-b6cb-1f95b7e938d2"
      },
      "outputs": [],
      "source": [
        "# Convertendo para um formato mais legível (tabela pivô)\n",
        "vendas_pivot = vendas_regiao_categoria.unstack()\n",
        "\n",
        "print(\"Tabela pivô de vendas por região e categoria:\")\n",
        "vendas_pivot"
      ]
    },
    {
      "cell_type": "markdown",
      "id": "a2b64143-a0a6-4124-b67a-2464b82fbc1f",
      "metadata": {
        "id": "a2b64143-a0a6-4124-b67a-2464b82fbc1f"
      },
      "source": [
        "### 5.4 Aplicando Diferentes Agregações a Diferentes Colunas"
      ]
    },
    {
      "cell_type": "code",
      "execution_count": null,
      "id": "d7ae0f32-a403-44db-b43a-031d12884008",
      "metadata": {
        "id": "d7ae0f32-a403-44db-b43a-031d12884008"
      },
      "outputs": [],
      "source": [
        "# Aplicando diferentes funções a diferentes colunas\n",
        "agg_multiplas_colunas = df_vendas.groupby('categoria').agg({\n",
        "    'valor_venda': ['sum', 'mean'],\n",
        "    'quantidade': ['sum', 'mean'],\n",
        "    'avaliacao': 'mean'\n",
        "})\n",
        "\n",
        "print(\"Agregações múltiplas por categoria:\")\n",
        "agg_multiplas_colunas"
      ]
    },
    {
      "cell_type": "code",
      "execution_count": null,
      "id": "38206f93-22b3-4cd0-bc7f-1404f738cb26",
      "metadata": {
        "id": "38206f93-22b3-4cd0-bc7f-1404f738cb26"
      },
      "outputs": [],
      "source": [
        "# Achatando os níveis de índice das colunas para facilitar o acesso\n",
        "agg_multiplas_colunas.columns = ['Valor Total', 'Valor Médio', 'Quantidade Total', 'Quantidade Média', 'Avaliação Média']\n",
        "\n",
        "print(\"Com colunas renomeadas:\")\n",
        "agg_multiplas_colunas"
      ]
    },
    {
      "cell_type": "markdown",
      "id": "48b0b134-bea1-4649-9695-e010aee9602a",
      "metadata": {
        "id": "48b0b134-bea1-4649-9695-e010aee9602a"
      },
      "source": [
        "#### Exercício 5: Agrupamento com GroupBy\n",
        "Agora, pratique o uso do GroupBy com os seguintes exercícios:"
      ]
    },
    {
      "cell_type": "markdown",
      "id": "44ea9f5d-8f8c-440e-a21c-206f0221ca38",
      "metadata": {
        "id": "44ea9f5d-8f8c-440e-a21c-206f0221ca38"
      },
      "source": [
        "##### 5.1 Agrupe os dados por 'canal_venda' e calcule o valor total de vendas para cada canal"
      ]
    },
    {
      "cell_type": "code",
      "execution_count": null,
      "id": "22811861-df15-4982-a502-68908461dd94",
      "metadata": {
        "id": "22811861-df15-4982-a502-68908461dd94"
      },
      "outputs": [],
      "source": [
        "# SEU CÓDIGO AQUI"
      ]
    },
    {
      "cell_type": "markdown",
      "id": "177bdfaf-73c9-498a-a6ac-bfaca8e936c2",
      "metadata": {
        "id": "177bdfaf-73c9-498a-a6ac-bfaca8e936c2"
      },
      "source": [
        "##### 5.2 Agrupe por 'estado' e calcule a quantidade média de itens vendidos por estado"
      ]
    },
    {
      "cell_type": "code",
      "execution_count": null,
      "id": "831905fa-bb6a-43d8-9196-3644dcf47efd",
      "metadata": {
        "id": "831905fa-bb6a-43d8-9196-3644dcf47efd"
      },
      "outputs": [],
      "source": [
        "# SEU CÓDIGO AQUI"
      ]
    },
    {
      "cell_type": "markdown",
      "id": "380e259b-51fc-4f2e-976f-2ca7635bb307",
      "metadata": {
        "id": "380e259b-51fc-4f2e-976f-2ca7635bb307"
      },
      "source": [
        "##### 5.3 Agrupe por 'categoria' e calcule a avaliação média para cada categoria de produto"
      ]
    },
    {
      "cell_type": "code",
      "execution_count": null,
      "id": "92360056-7ed3-4bff-8599-b475e214c1d0",
      "metadata": {
        "id": "92360056-7ed3-4bff-8599-b475e214c1d0"
      },
      "outputs": [],
      "source": [
        "# SEU CÓDIGO AQUI"
      ]
    },
    {
      "cell_type": "markdown",
      "id": "8a8e2e63-f732-4588-8b0a-3d3125b5cb00",
      "metadata": {
        "id": "8a8e2e63-f732-4588-8b0a-3d3125b5cb00"
      },
      "source": [
        "##### 5.4 Agrupe por 'regiao' e 'canal_venda' e calcule o total de vendas para cada combinação"
      ]
    },
    {
      "cell_type": "code",
      "execution_count": null,
      "id": "b98593a1-1977-43bb-a590-14c5f458b289",
      "metadata": {
        "id": "b98593a1-1977-43bb-a590-14c5f458b289"
      },
      "outputs": [],
      "source": [
        "# SEU CÓDIGO AQUI"
      ]
    },
    {
      "cell_type": "markdown",
      "id": "97a2b8b2-e26c-4bd5-b7ed-6c23c4951b75",
      "metadata": {
        "id": "97a2b8b2-e26c-4bd5-b7ed-6c23c4951b75"
      },
      "source": [
        "##### 5.5 Aplique múltiplas agregações (count, sum, mean) à coluna 'valor_venda' após agrupar por 'produto'"
      ]
    },
    {
      "cell_type": "code",
      "execution_count": null,
      "id": "62470d4f-752e-47a2-895b-fbf98bf410e0",
      "metadata": {
        "id": "62470d4f-752e-47a2-895b-fbf98bf410e0"
      },
      "outputs": [],
      "source": [
        "# SEU CÓDIGO AQUI"
      ]
    },
    {
      "cell_type": "markdown",
      "id": "193c3712-4af0-4d9a-85b9-4ccf210f662e",
      "metadata": {
        "id": "193c3712-4af0-4d9a-85b9-4ccf210f662e"
      },
      "source": [
        "---"
      ]
    },
    {
      "cell_type": "markdown",
      "id": "72ef1877-c598-42a3-9de9-20e4fa0e3b06",
      "metadata": {
        "id": "72ef1877-c598-42a3-9de9-20e4fa0e3b06"
      },
      "source": [
        "## 6. Manipulação de Dados e Criação de Colunas\n",
        "\n",
        "### 6.1 Manipulando Tipos de Dados"
      ]
    },
    {
      "cell_type": "code",
      "execution_count": null,
      "id": "6e506605-d708-4f78-bf1f-2f69323008c4",
      "metadata": {
        "id": "6e506605-d708-4f78-bf1f-2f69323008c4"
      },
      "outputs": [],
      "source": [
        "# Verificando o tipo de dado da coluna 'data'\n",
        "print(f\"Tipo de dado da coluna 'data': {df_vendas['data'].dtype}\")"
      ]
    },
    {
      "cell_type": "code",
      "execution_count": null,
      "id": "a8ed8ff7-e03e-47bd-8a66-369e9dc8903a",
      "metadata": {
        "id": "a8ed8ff7-e03e-47bd-8a66-369e9dc8903a"
      },
      "outputs": [],
      "source": [
        "# Convertendo a coluna 'data' para datetime\n",
        "df_vendas['data'] = pd.to_datetime(df_vendas['data'])\n",
        "print(f\"Novo tipo de dado da coluna 'data': {df_vendas['data'].dtype}\")"
      ]
    },
    {
      "cell_type": "code",
      "execution_count": null,
      "id": "a70da34f-f35b-467e-8cf4-8058c872aa51",
      "metadata": {
        "id": "a70da34f-f35b-467e-8cf4-8058c872aa51"
      },
      "outputs": [],
      "source": [
        "# Extraindo componentes da data\n",
        "df_vendas['ano'] = df_vendas['data'].dt.year\n",
        "df_vendas['mes'] = df_vendas['data'].dt.month\n",
        "df_vendas['dia'] = df_vendas['data'].dt.day\n",
        "df_vendas['dia_semana'] = df_vendas['data'].dt.day_name()\n",
        "\n",
        "# Visualizando as novas colunas\n",
        "print(\"Primeiras linhas com as novas colunas de data:\")\n",
        "df_vendas[['data', 'ano', 'mes', 'dia', 'dia_semana']].head()"
      ]
    },
    {
      "cell_type": "markdown",
      "id": "558fc1b9-9b3a-4111-a467-5c708aae344a",
      "metadata": {
        "id": "558fc1b9-9b3a-4111-a467-5c708aae344a"
      },
      "source": [
        "### 6.2 Criando Novas Colunas com Operações Aritméticas"
      ]
    },
    {
      "cell_type": "code",
      "execution_count": null,
      "id": "c3085c87-d833-4a5f-8f46-0415a6ab1aab",
      "metadata": {
        "id": "c3085c87-d833-4a5f-8f46-0415a6ab1aab"
      },
      "outputs": [],
      "source": [
        "# Criando uma coluna de valor total (valor_venda * quantidade)\n",
        "df_vendas['valor_total'] = df_vendas['valor_venda'] * df_vendas['quantidade']\n",
        "\n",
        "# Criando uma coluna de desconto (10% do valor_venda)\n",
        "df_vendas['desconto'] = df_vendas['valor_venda'] * 0.1\n",
        "\n",
        "# Criando uma coluna de valor com desconto\n",
        "df_vendas['valor_com_desconto'] = df_vendas['valor_venda'] - df_vendas['desconto']\n",
        "\n",
        "# Visualizando as novas colunas\n",
        "print(\"Primeiras linhas com as novas colunas calculadas:\")\n",
        "df_vendas[['valor_venda', 'quantidade', 'valor_total', 'desconto', 'valor_com_desconto']].head()"
      ]
    },
    {
      "cell_type": "markdown",
      "id": "4bb2267f-db00-477d-ae0c-685c86ea4f32",
      "metadata": {
        "id": "4bb2267f-db00-477d-ae0c-685c86ea4f32"
      },
      "source": [
        "### 6.3 Criando Colunas Categóricas com apply() e funções personalizadas"
      ]
    },
    {
      "cell_type": "code",
      "execution_count": null,
      "id": "38b97fbf-5239-437b-aff4-f7b56f73c708",
      "metadata": {
        "id": "38b97fbf-5239-437b-aff4-f7b56f73c708"
      },
      "outputs": [],
      "source": [
        "# Definindo uma função para categorizar o valor da venda\n",
        "def categorizar_valor(valor):\n",
        "    if valor < 100:\n",
        "        return 'Baixo'\n",
        "    elif valor < 1000:\n",
        "        return 'Médio'\n",
        "    else:\n",
        "        return 'Alto'\n",
        "\n",
        "# Aplicando a função à coluna 'valor_venda' para criar a coluna 'faixa_preco'\n",
        "df_vendas['faixa_preco'] = df_vendas['valor_venda'].apply(categorizar_valor)\n",
        "df_vendas[['valor_venda', 'faixa_preco']].head()"
      ]
    },
    {
      "cell_type": "code",
      "execution_count": null,
      "id": "b5145769-5610-49e7-a8df-c995e59d1fcd",
      "metadata": {
        "id": "b5145769-5610-49e7-a8df-c995e59d1fcd"
      },
      "outputs": [],
      "source": [
        "# Definindo uma função para categorizar a quantidade\n",
        "def categorizar_quantidade(qtd):\n",
        "    if qtd <= 2:\n",
        "        return 'Pequeno'\n",
        "    elif qtd <= 5:\n",
        "        return 'Médio'\n",
        "    else:\n",
        "        return 'Grande'\n",
        "\n",
        "# Aplicando a função à coluna 'quantidade'\n",
        "df_vendas['tamanho_pedido'] = df_vendas['quantidade'].apply(categorizar_quantidade)\n",
        "df_vendas[['quantidade', 'tamanho_pedido']].head()"
      ]
    },
    {
      "cell_type": "code",
      "execution_count": null,
      "id": "6e5103ed-bbc5-415b-915f-6fac031d34b0",
      "metadata": {
        "id": "6e5103ed-bbc5-415b-915f-6fac031d34b0"
      },
      "outputs": [],
      "source": [
        "# Visualizando as novas colunas categóricas\n",
        "print(\"Primeiras linhas com as novas colunas categóricas:\")\n",
        "df_vendas[['valor_venda', 'faixa_preco', 'quantidade', 'tamanho_pedido']].head()"
      ]
    },
    {
      "cell_type": "code",
      "execution_count": null,
      "id": "68ec92ea-fa45-4296-baff-c06af3a585f0",
      "metadata": {
        "id": "68ec92ea-fa45-4296-baff-c06af3a585f0"
      },
      "outputs": [],
      "source": [
        "# Verificando a contagem de cada categoria\n",
        "print(\"Contagem por faixa de preço:\")\n",
        "df_vendas['faixa_preco'].value_counts()"
      ]
    },
    {
      "cell_type": "code",
      "execution_count": null,
      "id": "88f08c50-ae48-425e-a550-b23ed963a863",
      "metadata": {
        "id": "88f08c50-ae48-425e-a550-b23ed963a863"
      },
      "outputs": [],
      "source": [
        "print(\"Contagem por tamanho de pedido:\")\n",
        "df_vendas['tamanho_pedido'].value_counts()"
      ]
    },
    {
      "cell_type": "markdown",
      "id": "89d21dee-850c-4337-8f29-c5506633d3be",
      "metadata": {
        "id": "89d21dee-850c-4337-8f29-c5506633d3be"
      },
      "source": [
        "#### Exercício 6: Manipulação de Dados e Criação de Colunas\n",
        "Agora, pratique a manipulação de dados e criação de colunas:"
      ]
    },
    {
      "cell_type": "markdown",
      "id": "30ea35b0-7c29-4edb-b600-c0de6a4c8b20",
      "metadata": {
        "id": "30ea35b0-7c29-4edb-b600-c0de6a4c8b20"
      },
      "source": [
        "##### 6.1 Crie uma coluna 'trimestre' baseada no mês da venda (1: Jan-Mar, 2: Abr-Jun, etc.)\n",
        "Dica: você pode usar a função math.ceil(mes/3) ou uma função personalizada"
      ]
    },
    {
      "cell_type": "code",
      "execution_count": null,
      "id": "d6368826-0f52-46dc-b75c-06cad3e407a6",
      "metadata": {
        "id": "d6368826-0f52-46dc-b75c-06cad3e407a6"
      },
      "outputs": [],
      "source": [
        "# SEU CÓDIGO AQUI"
      ]
    },
    {
      "cell_type": "markdown",
      "id": "3dc14ded-0778-4c04-94f8-f606cdb32e31",
      "metadata": {
        "id": "3dc14ded-0778-4c04-94f8-f606cdb32e31"
      },
      "source": [
        "##### 6.2 Crie uma coluna 'dia_util' que indique se a venda ocorreu em um dia útil (segunda a sexta) ou fim de semana (sábado e domingo)\n",
        "Dica: use o atributo .dt.dayofweek (0-4 para dias da semana, 5-6 para fim de semana)"
      ]
    },
    {
      "cell_type": "code",
      "execution_count": null,
      "id": "fb486775-f343-4fc3-99e5-b36da28f5f71",
      "metadata": {
        "id": "fb486775-f343-4fc3-99e5-b36da28f5f71"
      },
      "outputs": [],
      "source": [
        "# SEU CÓDIGO AQUI"
      ]
    },
    {
      "cell_type": "markdown",
      "id": "a13386b7-f845-43ac-9ba6-6efa0a4d554a",
      "metadata": {
        "id": "a13386b7-f845-43ac-9ba6-6efa0a4d554a"
      },
      "source": [
        "##### 6.3 Crie uma coluna 'margem_lucro' que é 30% do valor_venda"
      ]
    },
    {
      "cell_type": "code",
      "execution_count": null,
      "id": "1399b914-841b-4af2-bdef-6e8e4516e447",
      "metadata": {
        "id": "1399b914-841b-4af2-bdef-6e8e4516e447"
      },
      "outputs": [],
      "source": [
        "# SEU CÓDIGO AQUI"
      ]
    },
    {
      "cell_type": "markdown",
      "id": "e7652bf4-336e-407c-a54a-4894bda3f7b8",
      "metadata": {
        "id": "e7652bf4-336e-407c-a54a-4894bda3f7b8"
      },
      "source": [
        "##### 6.4 Crie uma coluna categórica 'nivel_avaliacao' baseada na avaliação: 'Ruim' (1-2), 'Regular' (3), 'Bom' (4), 'Excelente' (5)"
      ]
    },
    {
      "cell_type": "code",
      "execution_count": null,
      "id": "3647eaa0-4461-4043-a00d-7c73efea87e8",
      "metadata": {
        "id": "3647eaa0-4461-4043-a00d-7c73efea87e8"
      },
      "outputs": [],
      "source": [
        "# SEU CÓDIGO AQUI"
      ]
    },
    {
      "cell_type": "markdown",
      "id": "93691517-0708-4d83-a844-38d70ee751e9",
      "metadata": {
        "id": "93691517-0708-4d83-a844-38d70ee751e9"
      },
      "source": [
        "##### 6.5 Crie uma coluna 'acima_media' que tenha valor True se o valor_venda for superior à média de todas as vendas e False caso contrário"
      ]
    },
    {
      "cell_type": "code",
      "execution_count": null,
      "id": "b1aa4fc9-ee2d-4832-a012-7656c0f76942",
      "metadata": {
        "id": "b1aa4fc9-ee2d-4832-a012-7656c0f76942"
      },
      "outputs": [],
      "source": [
        "# SEU CÓDIGO AQUI"
      ]
    },
    {
      "cell_type": "markdown",
      "id": "34bb547f-79e7-4f0f-ad4a-e5f2131cd954",
      "metadata": {
        "id": "34bb547f-79e7-4f0f-ad4a-e5f2131cd954"
      },
      "source": [
        "---"
      ]
    },
    {
      "cell_type": "markdown",
      "id": "457f3bf3",
      "metadata": {
        "id": "457f3bf3"
      },
      "source": [
        "# 7. Visualização de Dados com Pandas\n",
        "A visualização é uma parte fundamental da análise de dados. O Pandas oferece uma integração com Matplotlib que facilita a criação de diversos tipos de gráficos através do método `.plot()`.\n",
        "\n",
        "### 7.1 Gráficos de Linha\n",
        "Os gráficos de linha são ótimos para mostrar mudanças ao longo do tempo ou tendências."
      ]
    },
    {
      "cell_type": "code",
      "execution_count": null,
      "id": "edd03e1a",
      "metadata": {
        "id": "edd03e1a"
      },
      "outputs": [],
      "source": [
        "# Agrupando vendas por mês\n",
        "vendas_mensais = df_vendas.groupby('mes')['valor_total'].sum()\n",
        "\n",
        "# Criando um simples gráfico de linha\n",
        "vendas_mensais.plot(kind='line') # O parâmetro 'kind' especifica qual tipo de gráfico queremos, nesse caso, linha (line)\n",
        "plt.title('Valor Total de Vendas por Mês') # Título do gráfico\n",
        "plt.xlabel('Mês') # Rótulo do eixo x\n",
        "plt.ylabel('Valor Total (R$)') # Rótulo do eixo y\n",
        "plt.show()"
      ]
    },
    {
      "cell_type": "markdown",
      "id": "21eaba1d",
      "metadata": {
        "id": "21eaba1d"
      },
      "source": [
        "### 7.2 Gráficos de Barras\n",
        "Os gráficos de barras são ótimos para comparar valores entre diferentes categorias."
      ]
    },
    {
      "cell_type": "code",
      "execution_count": null,
      "id": "d9d51589",
      "metadata": {
        "id": "d9d51589"
      },
      "outputs": [],
      "source": [
        "# Valor total de vendas por categoria\n",
        "vendas_por_categoria = df_vendas.groupby('categoria')['valor_total'].sum()\n",
        "\n",
        "# Criando um gráfico de barras simples\n",
        "vendas_por_categoria.plot(kind='bar')\n",
        "plt.title('Valor Total de Vendas por Categoria')\n",
        "plt.xlabel('Categoria')\n",
        "plt.ylabel('Valor Total (R$)')\n",
        "plt.show()"
      ]
    },
    {
      "cell_type": "markdown",
      "id": "348978a4",
      "metadata": {
        "id": "348978a4"
      },
      "source": [
        "### 7.3 Histogramas\n",
        "Histogramas mostram a distribuição dos seus dados, dividindo os valores em intervalos (bins)."
      ]
    },
    {
      "cell_type": "code",
      "execution_count": null,
      "id": "1c1d9419",
      "metadata": {
        "id": "1c1d9419"
      },
      "outputs": [],
      "source": [
        "# Histograma dos valores de venda\n",
        "df_vendas['valor_venda'].plot(kind='hist', bins=20)\n",
        "plt.title('Distribuição dos Valores de Venda')\n",
        "plt.xlabel('Valor (R$)')\n",
        "plt.ylabel('Frequência')\n",
        "plt.show()"
      ]
    },
    {
      "cell_type": "markdown",
      "id": "25c617d5",
      "metadata": {
        "id": "25c617d5"
      },
      "source": [
        "### 7.4 Personalizando Gráficos\n",
        "Você pode personalizar seus gráficos adicionando cores, marcadores e outros elementos."
      ]
    },
    {
      "cell_type": "code",
      "execution_count": null,
      "id": "462ecef1",
      "metadata": {
        "id": "462ecef1"
      },
      "outputs": [],
      "source": [
        "# Personalizando um gráfico de linha\n",
        "vendas_mensais.plot(\n",
        "    kind='line',\n",
        "    figsize=(10, 5),   # Tamanho da figura\n",
        "    color='green',     # Cor da linha\n",
        "    marker='o',        # Marcador nos pontos\n",
        "    linestyle='--',    # Estilo da linha\n",
        "    linewidth=2        # Espessura da linha\n",
        ")\n",
        "plt.title('Valor Total de Vendas por Mês')\n",
        "plt.xlabel('Mês')\n",
        "plt.ylabel('Valor Total (R$)')\n",
        "plt.grid(True)\n",
        "plt.show()"
      ]
    },
    {
      "cell_type": "markdown",
      "id": "3b6431e2",
      "metadata": {
        "id": "3b6431e2"
      },
      "source": [
        "#### Exercício 7: Visualização de Dados\n",
        "Agora é sua vez de praticar a criação de gráficos com Pandas:\n",
        "\n",
        "##### 7.1 Crie um gráfico de barras mostrando o número de vendas por canal_venda"
      ]
    },
    {
      "cell_type": "code",
      "execution_count": null,
      "id": "8faaa925",
      "metadata": {
        "id": "8faaa925"
      },
      "outputs": [],
      "source": [
        "# SEU CÓDIGO AQUI"
      ]
    },
    {
      "cell_type": "markdown",
      "id": "9f84b6a2",
      "metadata": {
        "id": "9f84b6a2"
      },
      "source": [
        "##### 7.2 Crie um gráfico de linha simples mostrando a média de valor_venda por mês"
      ]
    },
    {
      "cell_type": "code",
      "execution_count": null,
      "id": "02188938",
      "metadata": {
        "id": "02188938"
      },
      "outputs": [],
      "source": [
        "# SEU CÓDIGO AQUI"
      ]
    },
    {
      "cell_type": "markdown",
      "id": "e115e039",
      "metadata": {
        "id": "e115e039"
      },
      "source": [
        "##### 7.3 Crie um histograma da coluna 'avaliacao' e adicione um título"
      ]
    },
    {
      "cell_type": "code",
      "execution_count": null,
      "id": "72bf7e2a",
      "metadata": {
        "id": "72bf7e2a"
      },
      "outputs": [],
      "source": [
        "# SEU CÓDIGO AQUI"
      ]
    },
    {
      "cell_type": "markdown",
      "id": "399157d0",
      "metadata": {
        "id": "399157d0"
      },
      "source": [
        "##### 7.4 Crie um gráfico de barras mostrando o total de vendas por região"
      ]
    },
    {
      "cell_type": "code",
      "execution_count": null,
      "id": "6aacdffa",
      "metadata": {
        "id": "6aacdffa"
      },
      "outputs": [],
      "source": [
        "# SEU CÓDIGO AQUI"
      ]
    },
    {
      "cell_type": "markdown",
      "id": "023e0188",
      "metadata": {
        "id": "023e0188"
      },
      "source": [
        "---"
      ]
    },
    {
      "cell_type": "markdown",
      "id": "98ce4a7c",
      "metadata": {
        "id": "98ce4a7c"
      },
      "source": [
        "# Você Chegou ao Fim!\n",
        "\n",
        "Parabéns por ter chegado até aqui, guerreiro(a) dos dados!\n",
        "(A não ser que você tenha pulado tudo e vindo direto pra cá... hmm, estamos de olho 👀)\n",
        "\n",
        "Esperamos que você tenha conseguido resolver todos os exercícios - ou pelo menos tenha quebrado a cabeça tentando!\n",
        "\n",
        "## 📋 Antes de enviar, dá uma conferida final:\n",
        "- Todas as células estão funcionando? (Por favor, diz que sim 🙏)\n",
        "- Você respondeu todas as questões? (Aquela do meio era difícil, né?)\n",
        "- O código está rodando sem erros? (Ou sem MUITOS erros, pelo menos 😅)\n",
        "\n",
        "## 📤 INSTRUÇÕES DE ENTREGA:\n",
        "- Envie este notebook para: lads.unama@gmail.com\n",
        "- Prazo: Domingo, 18/05/2025, às 23:59\n",
        "\n",
        "Você pode mandar o arquivo direto ou o link do seu GitHub - escolha a opção que te deixa mais zen!\n",
        "\n",
        "Boa sorte e até a próxima fase (pensamento positivo, né?)! 💪\n",
        "\n",
        "— Equipe LADS, que já está ansiosa pra ver a magia que você fez com esses dados"
      ]
    }
  ],
  "metadata": {
    "kernelspec": {
      "display_name": "Python 3",
      "language": "python",
      "name": "python3"
    },
    "language_info": {
      "codemirror_mode": {
        "name": "ipython",
        "version": 3
      },
      "file_extension": ".py",
      "mimetype": "text/x-python",
      "name": "python",
      "nbconvert_exporter": "python",
      "pygments_lexer": "ipython3",
      "version": "3.13.1"
    },
    "colab": {
      "provenance": []
    }
  },
  "nbformat": 4,
  "nbformat_minor": 5
}